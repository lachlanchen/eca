{
 "cells": [
  {
   "cell_type": "code",
   "execution_count": 5,
   "id": "eeb4ef19",
   "metadata": {},
   "outputs": [],
   "source": [
    "import torchvision\n",
    "from torchvision.transforms import ToTensor\n",
    "\n",
    "import matplotlib.pyplot as plt\n",
    "\n",
    "import os\n",
    "# os.environ[\"CUDA_DEVICE_ORDER\"]=\"PCI_BUS_ID\"   # see issue #152\n",
    "# os.environ[\"CUDA_VISIBLE_DEVICES\"]=\"1\"\n",
    "\n",
    "import os\n",
    "from collections import namedtuple, OrderedDict\n",
    "import numpy as np\n",
    "from skimage import io\n",
    "\n",
    "import pyro\n",
    "import pyro.optim as optim\n",
    "# from pyro.infer import SVI, TraceGraph_ELBO\n",
    "from pyro.infer import SVI, Trace_ELBO, TraceEnum_ELBO, config_enumerate\n",
    "import pyro.distributions as dist\n",
    "import pyro.poutine as poutine\n",
    "# import pyro.contrib.examples.multi_mnist as multi_mnist\n",
    "import torch\n",
    "import torch.nn as nn\n",
    "from torch.nn.functional import relu, tanh, sigmoid, softplus, grid_sample, affine_grid, avg_pool2d\n",
    "from torch.distributions.bernoulli import Bernoulli\n",
    "\n",
    "import pandas as pd\n",
    "import matplotlib.pyplot as plt\n",
    "\n",
    "from sympy.solvers import solve\n",
    "from sympy import Symbol, var\n",
    "from sympy.solvers.diophantine import diophantine\n",
    "from sympy.solvers.diophantine.diophantine import diop_solve\n",
    "from sympy.solvers.diophantine.diophantine import diop_ternary_quadratic\n",
    "\n",
    "import visdom\n",
    "\n",
    "import seaborn as sns\n",
    "import math\n",
    "# from torch.linalg import matrix_exp\n",
    "\n",
    "from tqdm import tqdm, trange"
   ]
  },
  {
   "cell_type": "code",
   "execution_count": 6,
   "id": "f70f92a2",
   "metadata": {},
   "outputs": [],
   "source": [
    "# from __future__ import print_function\n",
    "# import torch\n",
    "# import torch.nn as nn\n",
    "# import torch.nn.functional as F\n",
    "# from torch.autograd import Variable\n",
    "\n",
    "# def sample_gumbel(shape, eps=1e-20):\n",
    "#     U = torch.rand(shape).cuda()\n",
    "#     return -Variable(torch.log(-torch.log(U + eps) + eps))\n",
    "\n",
    "# def gumbel_softmax_sample(logits, temperature):\n",
    "#     y = logits + sample_gumbel(logits.size())\n",
    "#     return F.softmax(y / temperature, dim=-1)\n",
    "\n",
    "# def gumbel_softmax(logits, temperature):\n",
    "#     \"\"\"\n",
    "#     input: [*, n_class]\n",
    "#     return: [*, n_class] an one-hot vector\n",
    "#     \"\"\"\n",
    "#     y = gumbel_softmax_sample(logits, temperature)\n",
    "#     shape = y.size()\n",
    "#     _, ind = y.max(dim=-1)\n",
    "#     y_hard = torch.zeros_like(y).view(-1, shape[-1])\n",
    "#     y_hard.scatter_(1, ind.view(-1, 1), 1)\n",
    "#     y_hard = y_hard.view(*shape)\n",
    "#     return (y_hard - y).detach() + y\n",
    "\n",
    "# if __name__ == '__main__':\n",
    "#     import math\n",
    "#     print(gumbel_softmax(Variable(torch.cuda.FloatTensor([[math.log(0.1), math.log(0.4), math.log(0.3), math.log(0.2)]] * 20000)),     0.8).sum(dim=0))"
   ]
  },
  {
   "cell_type": "code",
   "execution_count": 7,
   "id": "9af9e888",
   "metadata": {},
   "outputs": [],
   "source": [
    "torch.pi = torch.acos(torch.zeros(1)).item() * 2\n",
    "\n",
    "torch.pi\n",
    "\n",
    "device = torch.device('cuda:0')\n",
    "\n",
    "torch.set_default_dtype(torch.float64)\n",
    "\n",
    "# vis = visdom.Visdom()"
   ]
  },
  {
   "cell_type": "code",
   "execution_count": 8,
   "id": "d68622b6",
   "metadata": {},
   "outputs": [
    {
     "data": {
      "text/plain": [
       "True"
      ]
     },
     "execution_count": 8,
     "metadata": {},
     "output_type": "execute_result"
    }
   ],
   "source": [
    "torch.cuda.is_available()"
   ]
  },
  {
   "cell_type": "code",
   "execution_count": 9,
   "id": "892d856d",
   "metadata": {},
   "outputs": [
    {
     "name": "stdout",
     "output_type": "stream",
     "text": [
      "Downloading http://yann.lecun.com/exdb/mnist/train-images-idx3-ubyte.gz\n",
      "Downloading http://yann.lecun.com/exdb/mnist/train-images-idx3-ubyte.gz to ./dataset/MNIST/raw/train-images-idx3-ubyte.gz\n"
     ]
    },
    {
     "data": {
      "application/vnd.jupyter.widget-view+json": {
       "model_id": "0fcaec193ac94fefb4a65f5119f51097",
       "version_major": 2,
       "version_minor": 0
      },
      "text/plain": [
       "  0%|          | 0/9912422 [00:00<?, ?it/s]"
      ]
     },
     "metadata": {},
     "output_type": "display_data"
    },
    {
     "name": "stdout",
     "output_type": "stream",
     "text": [
      "Extracting ./dataset/MNIST/raw/train-images-idx3-ubyte.gz to ./dataset/MNIST/raw\n",
      "\n",
      "Downloading http://yann.lecun.com/exdb/mnist/train-labels-idx1-ubyte.gz\n",
      "Downloading http://yann.lecun.com/exdb/mnist/train-labels-idx1-ubyte.gz to ./dataset/MNIST/raw/train-labels-idx1-ubyte.gz\n"
     ]
    },
    {
     "data": {
      "application/vnd.jupyter.widget-view+json": {
       "model_id": "630771895c124429aca67eefbc59e8ae",
       "version_major": 2,
       "version_minor": 0
      },
      "text/plain": [
       "  0%|          | 0/28881 [00:00<?, ?it/s]"
      ]
     },
     "metadata": {},
     "output_type": "display_data"
    },
    {
     "name": "stdout",
     "output_type": "stream",
     "text": [
      "Extracting ./dataset/MNIST/raw/train-labels-idx1-ubyte.gz to ./dataset/MNIST/raw\n",
      "\n",
      "Downloading http://yann.lecun.com/exdb/mnist/t10k-images-idx3-ubyte.gz\n",
      "Downloading http://yann.lecun.com/exdb/mnist/t10k-images-idx3-ubyte.gz to ./dataset/MNIST/raw/t10k-images-idx3-ubyte.gz\n"
     ]
    },
    {
     "data": {
      "application/vnd.jupyter.widget-view+json": {
       "model_id": "fc13a13e8ec2429aa3d112edb0b54d3c",
       "version_major": 2,
       "version_minor": 0
      },
      "text/plain": [
       "  0%|          | 0/1648877 [00:00<?, ?it/s]"
      ]
     },
     "metadata": {},
     "output_type": "display_data"
    },
    {
     "name": "stdout",
     "output_type": "stream",
     "text": [
      "Extracting ./dataset/MNIST/raw/t10k-images-idx3-ubyte.gz to ./dataset/MNIST/raw\n",
      "\n",
      "Downloading http://yann.lecun.com/exdb/mnist/t10k-labels-idx1-ubyte.gz\n",
      "Downloading http://yann.lecun.com/exdb/mnist/t10k-labels-idx1-ubyte.gz to ./dataset/MNIST/raw/t10k-labels-idx1-ubyte.gz\n"
     ]
    },
    {
     "data": {
      "application/vnd.jupyter.widget-view+json": {
       "model_id": "b5e770b040924f79bd53eb13c113e64e",
       "version_major": 2,
       "version_minor": 0
      },
      "text/plain": [
       "  0%|          | 0/4542 [00:00<?, ?it/s]"
      ]
     },
     "metadata": {},
     "output_type": "display_data"
    },
    {
     "name": "stdout",
     "output_type": "stream",
     "text": [
      "Extracting ./dataset/MNIST/raw/t10k-labels-idx1-ubyte.gz to ./dataset/MNIST/raw\n",
      "\n"
     ]
    }
   ],
   "source": [
    "train = torchvision.datasets.MNIST(root=\"./dataset\", train=True, download=True, transform=ToTensor())"
   ]
  },
  {
   "cell_type": "code",
   "execution_count": 10,
   "id": "b4f888d2",
   "metadata": {},
   "outputs": [
    {
     "data": {
      "text/plain": [
       "<matplotlib.image.AxesImage at 0x7f784c4c5b50>"
      ]
     },
     "execution_count": 10,
     "metadata": {},
     "output_type": "execute_result"
    },
    {
     "data": {
      "image/png": "[encoded data removed]",
      "text/plain": [
       "<Figure size 432x288 with 1 Axes>"
      ]
     },
     "metadata": {
      "needs_background": "light"
     },
     "output_type": "display_data"
    }
   ],
   "source": [
    "plt.imshow(train[0][0][0])"
   ]
  },
  {
   "cell_type": "code",
   "execution_count": 11,
   "id": "a09fa24b",
   "metadata": {},
   "outputs": [],
   "source": [
    "n_vector = 28*28\n",
    "n_class = 10"
   ]
  },
  {
   "cell_type": "code",
   "execution_count": 12,
   "id": "ae8c4b42",
   "metadata": {},
   "outputs": [
    {
     "name": "stderr",
     "output_type": "stream",
     "text": [
      "/home/lachlan/miniconda3/envs/eca/lib/python3.7/site-packages/ipykernel_launcher.py:11: UserWarning: To copy construct from a tensor, it is recommended to use sourceTensor.clone().detach() or sourceTensor.clone().detach().requires_grad_(True), rather than torch.tensor(sourceTensor).\n",
      "  # This is added back by InteractiveShellApp.init_path()\n",
      "/home/lachlan/miniconda3/envs/eca/lib/python3.7/site-packages/ipykernel_launcher.py:16: UserWarning: To copy construct from a tensor, it is recommended to use sourceTensor.clone().detach() or sourceTensor.clone().detach().requires_grad_(True), rather than torch.tensor(sourceTensor).\n",
      "  app.launch_new_instance()\n"
     ]
    }
   ],
   "source": [
    "vectors_ = []\n",
    "labels_ = []\n",
    "for v, l in train:\n",
    "    vectors_.append(v)\n",
    "    labels_.append(l)\n",
    "\n",
    "vectors = torch.stack(vectors_)\n",
    "\n",
    "vectors = vectors.reshape(-1, n_vector)\n",
    "\n",
    "vectors = torch.tensor(vectors, dtype=torch.float64)\n",
    "\n",
    "labels = torch.tensor(labels_)\n",
    "\n",
    "labels = torch.nn.functional.one_hot(labels)\n",
    "labels = torch.tensor(labels, dtype=vectors.dtype)"
   ]
  },
  {
   "cell_type": "code",
   "execution_count": 13,
   "id": "d516b672",
   "metadata": {},
   "outputs": [],
   "source": [
    "vectors -= torch.mean(vectors, dim=0, keepdim=True)\n",
    "# vectors -= 0.5\n",
    "vectors /= torch.norm(vectors, dim=-1, keepdim=True)"
   ]
  },
  {
   "cell_type": "code",
   "execution_count": null,
   "id": "c62c16d4",
   "metadata": {},
   "outputs": [],
   "source": []
  },
  {
   "cell_type": "code",
   "execution_count": 14,
   "id": "fa03a548",
   "metadata": {},
   "outputs": [
    {
     "data": {
      "text/plain": [
       "tensor([[0.1000, 0.1000, 0.1000, 0.1000, 0.1000, 0.1000, 0.1000, 0.1000, 0.1000,\n",
       "         0.1000]])"
      ]
     },
     "execution_count": 14,
     "metadata": {},
     "output_type": "execute_result"
    }
   ],
   "source": [
    "category_theta = torch.softmax(torch.tensor([0.]).expand(1, n_class), dim=1)\n",
    "category_theta"
   ]
  },
  {
   "cell_type": "code",
   "execution_count": 15,
   "id": "c1e0fa62",
   "metadata": {},
   "outputs": [],
   "source": [
    "# pyro.sample('weights', dist.Dirichlet(0.5 * torch.ones(5)))"
   ]
  },
  {
   "cell_type": "code",
   "execution_count": 16,
   "id": "e7703ce3",
   "metadata": {},
   "outputs": [
    {
     "data": {
      "text/plain": [
       "10"
      ]
     },
     "execution_count": 16,
     "metadata": {},
     "output_type": "execute_result"
    }
   ],
   "source": [
    "n_class"
   ]
  },
  {
   "cell_type": "code",
   "execution_count": 17,
   "id": "5cba83b8",
   "metadata": {},
   "outputs": [],
   "source": [
    "# def prior(n):\n",
    "    \n",
    "#     # category = pyro.sample(\"category\", dist.Categorical(\n",
    "#     #         category_theta.expand(n, n_class),\n",
    "#     #     ).to_event(1)\n",
    "#     # ).cuda(device=device)\n",
    "    \n",
    "#     # print(category_theta)\n",
    "    \n",
    "#     # category = pyro.sample(\"category\", dist.DirichletMultinomial(\n",
    "#     #         category_theta.expand(n, n_class),\n",
    "#     #     ).to_event(0)\n",
    "#     # ).cuda(device=device)\n",
    "    \n",
    "#     category = pyro.sample(\"category\", dist.OneHotCategorical(\n",
    "#             category_theta.expand(n, n_class),\n",
    "#         ).to_event(0)\n",
    "#     ).to(device=device)\n",
    "    \n",
    "#     # category = category_theta.expand(n, n_class).to(device=device)\n",
    "\n",
    "#     # print(category)\n",
    "#     # print(\"category: \", category.shape)\n",
    "    \n",
    "#     return category"
   ]
  },
  {
   "cell_type": "code",
   "execution_count": 18,
   "id": "e4e56e0d",
   "metadata": {},
   "outputs": [],
   "source": [
    "# testtest = prior(8)"
   ]
  },
  {
   "cell_type": "code",
   "execution_count": 19,
   "id": "eb23ff6b",
   "metadata": {},
   "outputs": [
    {
     "data": {
      "text/plain": [
       "tensor(0.9970)"
      ]
     },
     "execution_count": 19,
     "metadata": {},
     "output_type": "execute_result"
    }
   ],
   "source": [
    "torch.rand(3).sum(axis=-1)"
   ]
  },
  {
   "cell_type": "code",
   "execution_count": 20,
   "id": "9041cef7",
   "metadata": {},
   "outputs": [],
   "source": [
    "class UL(nn.Module):\n",
    "    def __init__(self, use_cuda=True, *args, **kargs):\n",
    "        super().__init__(*args, **kargs)\n",
    "        n_triu = n_vector * (n_vector + 1) // 2\n",
    "\n",
    "        # MxM\n",
    "        A = torch.Tensor(n_triu)\n",
    "        # A = torch.randn(n_triu)\n",
    "        self.A = nn.Parameter(A) # nn.Parameter is a Tensor that's a module parameter.\n",
    "        \n",
    "        L_theta = torch.Tensor(n_vector, n_class)\n",
    "        # L_theta = torch.rand(n_vector, n_class)\n",
    "        self.L_theta = nn.Parameter(L_theta)\n",
    "        \n",
    "        # M_theta = torch.Tensor(n_vector, n_class)\n",
    "        # L_theta = torch.rand(n_vector, n_class)\n",
    "        # self.M_theta = nn.Parameter(M_theta)\n",
    "        \n",
    "        nn.init.uniform_(self.A, -1., 1.)\n",
    "        nn.init.uniform_(self.L_theta, -1., 1.)\n",
    "        # nn.init.uniform_(self.M_theta, -1., 1.)\n",
    "        \n",
    "        self.cuda()\n",
    "        \n",
    "    def forward(self, vectors):\n",
    "        \n",
    "        ## reconstruction\n",
    "        y, x = torch.triu_indices(n_vector, n_vector)\n",
    "        U = torch.zeros((n_vector, n_vector)).to(device=device)\n",
    "        U.index_put_(\n",
    "            [\n",
    "                y,\n",
    "                x\n",
    "            ],\n",
    "            self.A\n",
    "        )\n",
    "        U = U - U.T + torch.diag(torch.diagonal(U))\n",
    "        U = torch.matrix_exp(U)\n",
    "        U = U / torch.linalg.norm(U, dim=0)\n",
    "        \n",
    "        \n",
    "        # MxL\n",
    "        L_theta = sigmoid(self.L_theta)*(1-2e-10) + 1e-10\n",
    "        L_dist = Bernoulli(L_theta)\n",
    "        L = L_dist.sample().to(device=device)\n",
    "        L = (L - L_theta).detach() + L_theta\n",
    "        \n",
    "        L_regularizer = L.sum(dim=-1)\n",
    "        L_loss = torch.pow(L_regularizer - 1, 2).mean()\n",
    "\n",
    "\n",
    "\n",
    "        P = torch.matmul(vectors, U)\n",
    "        \n",
    "        \n",
    "        \n",
    "        PP = torch.pow(P, 2)\n",
    "        # NxM, MxL -> NxL\n",
    "        y_prob = torch.matmul(PP, L)\n",
    "        y_pred = nn.functional.gumbel_softmax(y_prob, tau=1, hard=True, dim=-1)\n",
    "        \n",
    "        # NxL * LxM -> NxM\n",
    "        activation = torch.matmul(y_pred, L.T)\n",
    "        \n",
    "        \n",
    "        \n",
    "        \n",
    "        coeff_mean = torch.matmul(y_pred, torch.sqrt(L_theta.T)) #* P / torch.abs(P)\n",
    "        coeff_sampled = coeff_mean + dist.Normal(torch.zeros_like(P), torch.ones_like(P)*0.01).sample()\n",
    "        # coeff_sampled = ( dist.Normal(coeff_mean, torch.ones_like(P)*0.01).rsample() + dist.Normal(-coeff_mean, torch.ones_like(P)*0.01).rsample() )/2\n",
    "        # coeff_sampled = dist.Normal(coeff_mean, torch.ones_like(P)*0.01).rsample()\n",
    "        coefficients = coeff_sampled * activation\n",
    "        coefficients_norm = torch.linalg.norm(coefficients, dim=-1, keepdim=True)\n",
    "        # coefficients = coefficients / torch.maximum(coefficients_norm, torch.tensor(1e-10).to(device=device))\n",
    "        coefficients = coefficients / coefficients_norm\n",
    "        \n",
    "        recon = torch.matmul(coefficients, U.T)\n",
    "    \n",
    "        \n",
    "        # dominant = nn.functional.gumbel_softmax(P, tau=1, hard=True, dim=-1)\n",
    "\n",
    "        # recon = torch.matmul(dominant, U.T)\n",
    "\n",
    "        \n",
    "        return recon, activation, PP, L_loss\n",
    "        \n",
    "        \n",
    "        \n",
    "\n",
    "    \n",
    "        "
   ]
  },
  {
   "cell_type": "code",
   "execution_count": 21,
   "id": "7fcfe12a",
   "metadata": {},
   "outputs": [],
   "source": [
    "ul = UL()"
   ]
  },
  {
   "cell_type": "code",
   "execution_count": 22,
   "id": "bf767023",
   "metadata": {},
   "outputs": [
    {
     "data": {
      "text/plain": [
       "tensor([0.5000, 0.5000, 0.5000])"
      ]
     },
     "execution_count": 22,
     "metadata": {},
     "output_type": "execute_result"
    }
   ],
   "source": [
    "torch.maximum(torch.rand(3), torch.tensor(0.5))"
   ]
  },
  {
   "cell_type": "code",
   "execution_count": null,
   "id": "d188ce64",
   "metadata": {},
   "outputs": [],
   "source": []
  },
  {
   "cell_type": "code",
   "execution_count": 23,
   "id": "2d0a0451",
   "metadata": {},
   "outputs": [],
   "source": [
    "# predict the category\n",
    "class PredictCategory(nn.Module):\n",
    "    def __init__(self, use_cuda=True, *args, **kargs):\n",
    "        super().__init__(*args, **kargs)\n",
    "        \n",
    "        self.l1 = nn.Linear(n_vector, 1024)\n",
    "        self.l2 = nn.Linear(1024, 512)\n",
    "        self.l3 = nn.Linear(512, 256)\n",
    "        self.l4 = nn.Linear(256, 128)\n",
    "        self.l5 = nn.Linear(128, 64)\n",
    "        self.l6 = nn.Linear(64, 32)\n",
    "        self.l7 = nn.Linear(32, 16)\n",
    "        self.l8 = nn.Linear(16, n_class)\n",
    "        \n",
    "        \n",
    "        \n",
    "        if use_cuda:\n",
    "            self.cuda(device=device)\n",
    "\n",
    "    def forward(self, vectors):\n",
    "\n",
    "        h = self.l1(vectors)\n",
    "        h = tanh(h)\n",
    "        h = self.l2(h)\n",
    "        h = tanh(h)\n",
    "        h = self.l3(h)\n",
    "        h = tanh(h)\n",
    "        h = self.l4(h)\n",
    "        h = tanh(h)\n",
    "        h = self.l5(h)\n",
    "        h = tanh(h)\n",
    "        h = self.l6(h)\n",
    "        h = tanh(h)\n",
    "        h = self.l7(h)\n",
    "        h = tanh(h)\n",
    "        h = self.l8(h)\n",
    "        \n",
    "        # h = torch.softmax(h, -1)\n",
    "       \n",
    "        return h"
   ]
  },
  {
   "cell_type": "code",
   "execution_count": 24,
   "id": "3d1b0be6",
   "metadata": {},
   "outputs": [],
   "source": [
    "# predict the category\n",
    "class PredictAffine(nn.Module):\n",
    "    def __init__(self, use_cuda=True, *args, **kargs):\n",
    "        super().__init__(*args, **kargs)\n",
    "        \n",
    "        self.l1 = nn.Linear(n_vector, 1024)\n",
    "        self.l2 = nn.Linear(1024, 512)\n",
    "        self.l3 = nn.Linear(512, 256)\n",
    "        self.l4 = nn.Linear(256, 128)\n",
    "        self.l5 = nn.Linear(128, 64)\n",
    "        self.l6 = nn.Linear(64, 32)\n",
    "        self.l7 = nn.Linear(32, 16)\n",
    "        self.l8 = nn.Linear(16, 6)\n",
    "        \n",
    "        \n",
    "        \n",
    "        if use_cuda:\n",
    "            self.cuda(device=device)\n",
    "\n",
    "    def forward(self, vectors):\n",
    "    \n",
    "        n = vectors.size(0)\n",
    "    \n",
    "        h = self.l1(vectors)\n",
    "        h = tanh(h)\n",
    "        h = self.l2(h)\n",
    "        h = tanh(h)\n",
    "        h = self.l3(h)\n",
    "        h = tanh(h)\n",
    "        h = self.l4(h)\n",
    "        h = tanh(h)\n",
    "        h = self.l5(h)\n",
    "        h = tanh(h)\n",
    "        h = self.l6(h)\n",
    "        h = tanh(h)\n",
    "        h = self.l7(h)\n",
    "        h = tanh(h)\n",
    "        h = self.l8(h)\n",
    "        \n",
    "        h = tanh(h)\n",
    "        \n",
    "        # h = h.view(-1, 2, 3)\n",
    "\n",
    "        # base = tanh(h[..., 0:2]) * 2\n",
    "        # translation = tanh(h[..., 2:3])\n",
    "\n",
    "        # h = torch.cat([base, translation], dim=-1).view(-1, 6)\n",
    "        # h = torch.softmax(h, -1)\n",
    "\n",
    "        return h"
   ]
  },
  {
   "cell_type": "code",
   "execution_count": 25,
   "id": "2f3a48cf",
   "metadata": {},
   "outputs": [],
   "source": [
    "# # predict the category\n",
    "# class Baseline(nn.Module):\n",
    "#     def __init__(self, use_cuda=True, *args, **kargs):\n",
    "#         super().__init__(*args, **kargs)\n",
    "        \n",
    "#         self.l1 = nn.Linear(n_vector, 2048)\n",
    "#         self.l2 = nn.Linear(1, n_class)\n",
    "        \n",
    "        \n",
    "        \n",
    "#         if use_cuda:\n",
    "#             self.cuda(device=device)\n",
    "\n",
    "#     def forward(self, vectors):\n",
    "\n",
    "#         h = self.l1(vectors.detach())\n",
    "#         h = tanh(h)\n",
    "#         h = self.l2(h)\n",
    "        \n",
    "       \n",
    "#         return h"
   ]
  },
  {
   "cell_type": "code",
   "execution_count": 26,
   "id": "fb9ca56a",
   "metadata": {},
   "outputs": [],
   "source": [
    "predict_cat = PredictCategory()\n",
    "# baseline = Baseline()"
   ]
  },
  {
   "cell_type": "code",
   "execution_count": 27,
   "id": "c79622ee",
   "metadata": {},
   "outputs": [],
   "source": [
    "# nn.functional.gumbel_softmax(torch.tensor([[-40.], [40.]]), tau=1, hard=False, dim=-1)"
   ]
  },
  {
   "cell_type": "code",
   "execution_count": 28,
   "id": "1b31bd58",
   "metadata": {},
   "outputs": [],
   "source": [
    "# single = train[0][0].reshape(1, 784)\n",
    "# single = single / torch.norm(single)\n",
    "# predict_cat(single.to(device=device))"
   ]
  },
  {
   "cell_type": "code",
   "execution_count": 29,
   "id": "02263fd7",
   "metadata": {},
   "outputs": [],
   "source": [
    "# # infer=dict(baseline=dict(baseline_value=baseline_value.squeeze(-1)))\n",
    "# def guide(vectors, labels):\n",
    "    \n",
    "#     pyro.module(\"predict_cat\", predict_cat)\n",
    "#     pyro.module(\"baseline\", baseline)\n",
    "#     with pyro.plate(\"vectors\", vectors.size(0), subsample_size=8) as indices:\n",
    "#         batch_vectors = vectors[indices].to(device=device)\n",
    "        \n",
    "#         categories = predict_cat(batch_vectors)\n",
    "#         baseline_value = baseline(batch_vectors)\n",
    "        \n",
    "#         # print(\"guide.shape: \", categories.shape)\n",
    "        \n",
    "#         # pyro.sample(\n",
    "#         #     \"category\",\n",
    "#         #     dist.DirichletMultinomial(\n",
    "#         #         categories.cpu()\n",
    "#         #     ).to_event(0),\n",
    "#         #     infer=dict(baseline=dict(baseline_value=baseline_value))\n",
    "#         # )\n",
    "        \n",
    "#         pyro.sample(\n",
    "#             \"category\",\n",
    "#             dist.OneHotCategorical(\n",
    "#                 categories.cpu()\n",
    "#             ).to_event(0),\n",
    "#             infer=dict(baseline=dict(baseline_value=baseline_value))\n",
    "#         )\n",
    "    "
   ]
  },
  {
   "cell_type": "code",
   "execution_count": 30,
   "id": "0f694cbb",
   "metadata": {},
   "outputs": [],
   "source": [
    "\n",
    "\n",
    "# optimizer = optim.Adam({'lr': 1e-4})\n",
    "\n",
    "# svi = SVI(model,\n",
    "#           guide,\n",
    "#           optimizer,\n",
    "#           loss=Trace_ELBO()\n",
    "#           # loss=custom_elbo\n",
    "#          )\n",
    "\n",
    "\n",
    "# losses = []\n",
    "# last_loss = 0\n",
    "# for i in range(29976+1, int(150000)):\n",
    "#     loss = svi.step(vectors, labels)\n",
    "#     if loss < last_loss:\n",
    "#         last_loss = loss\n",
    "#         print(\"Improvement! \")\n",
    "#     print('i={}, elbo={:.2f}'.format(i, loss / vectors.size(0)))\n",
    "#     losses.append(loss)"
   ]
  },
  {
   "cell_type": "code",
   "execution_count": null,
   "id": "6cd3a9e9",
   "metadata": {},
   "outputs": [],
   "source": []
  },
  {
   "cell_type": "code",
   "execution_count": 31,
   "id": "e70e8ba6",
   "metadata": {},
   "outputs": [],
   "source": [
    "img_height, img_width = 28, 28\n",
    "x = torch.linspace(-1+1/img_width, 1-1/img_width,img_width) \n",
    "y = torch.linspace(-1+1/img_height, 1-1/img_height,img_height) "
   ]
  },
  {
   "cell_type": "code",
   "execution_count": 32,
   "id": "dc90fe31",
   "metadata": {},
   "outputs": [
    {
     "name": "stderr",
     "output_type": "stream",
     "text": [
      "/home/lachlan/miniconda3/envs/eca/lib/python3.7/site-packages/torch/functional.py:504: UserWarning: torch.meshgrid: in an upcoming release, it will be required to pass the indexing argument. (Triggered internally at ../aten/src/ATen/native/TensorShape.cpp:3190.)\n",
      "  return _VF.meshgrid(tensors, **kwargs)  # type: ignore[attr-defined]\n"
     ]
    }
   ],
   "source": [
    "yy, xx = torch.meshgrid(y,x)\n",
    "dummy = torch.ones_like(xx)\n",
    "\n",
    "# 28x28x3\n",
    "coord_homo = torch.stack([xx, yy, dummy], axis=-1).to(device=device)"
   ]
  },
  {
   "cell_type": "code",
   "execution_count": 33,
   "id": "4d4ce140",
   "metadata": {},
   "outputs": [],
   "source": [
    "test = torch.ones((16,3,3))"
   ]
  },
  {
   "cell_type": "code",
   "execution_count": 34,
   "id": "1ee7c887",
   "metadata": {},
   "outputs": [],
   "source": [
    "# torch.tensordot(test, coord_homo, dims=([2], [2])).shape"
   ]
  },
  {
   "cell_type": "code",
   "execution_count": 35,
   "id": "fbf5c588",
   "metadata": {},
   "outputs": [
    {
     "name": "stderr",
     "output_type": "stream",
     "text": [
      "/home/lachlan/miniconda3/envs/eca/lib/python3.7/site-packages/torch/nn/functional.py:4290: UserWarning: Default grid_sample and affine_grid behavior has changed to align_corners=False since 1.3.0. Please specify align_corners=True if the old behavior is desired. See the documentation of grid_sample for details.\n",
      "  \"Default grid_sample and affine_grid behavior has changed \"\n"
     ]
    },
    {
     "data": {
      "text/plain": [
       "tensor([[[[-0.5000, -0.6667],\n",
       "          [ 0.5000, -0.6667]],\n",
       "\n",
       "         [[-0.5000,  0.0000],\n",
       "          [ 0.5000,  0.0000]],\n",
       "\n",
       "         [[-0.5000,  0.6667],\n",
       "          [ 0.5000,  0.6667]]]])"
      ]
     },
     "execution_count": 35,
     "metadata": {},
     "output_type": "execute_result"
    }
   ],
   "source": [
    "# grid = affine_grid(theta, torch.Size((n, 1,img_height, img_width)))\n",
    "# out = grid_sample(obj.view(n, 1, obj_height, obj_width), grid)\n",
    "affine_grid(torch.tensor([[[1., 0., 0.], [0., 1., 0.]]]), torch.Size((1, 1, 3, 2)))"
   ]
  },
  {
   "cell_type": "code",
   "execution_count": null,
   "id": "c4f9d38f",
   "metadata": {},
   "outputs": [],
   "source": []
  },
  {
   "cell_type": "code",
   "execution_count": 36,
   "id": "67850267",
   "metadata": {},
   "outputs": [],
   "source": [
    "# predict the category\n",
    "class Model(nn.Module):\n",
    "    def __init__(self, use_cuda=True, *args, **kargs):\n",
    "        super().__init__(*args, **kargs)\n",
    "        \n",
    "        \n",
    "        # self.pred_cat_ = PredictCategory()\n",
    "        self.pred_affine_ = PredictAffine()\n",
    "        self.ul_ = UL()\n",
    "        \n",
    "        # self.pred_cat = torch.jit.trace(self.pred_cat_, torch.rand(batch_size, n_vector).to(device=device))\n",
    "        # self.ul = torch.jit.trace(self.ul_, (torch.rand(batch_size, n_class).to(device=device), torch.rand(batch_size, n_vector).to(device=device)))\n",
    "        \n",
    "        # self.pred_cat =  self.pred_cat_\n",
    "        self.pred_affine = self.pred_affine_\n",
    "        self.ul = self.ul_\n",
    "        \n",
    "        if use_cuda:\n",
    "            self.cuda(device=device)\n",
    "\n",
    "    def forward(self, vectors):\n",
    "        n = vectors.size(0)\n",
    "\n",
    "        # predict the posterior distribution of affine paramters\n",
    "        # 输入是vectors\n",
    "        # 输出　batch_size　张图的仿射变换的参数，形状是　batch_size x 6, 或者batch_size x 12, 如果方差也预测的话\n",
    "        # 实际上这里我并没有根据分布进行采样，而是直接用了\n",
    "        # 也可以创建一个分布，从其中采样，分别计算　p(z) - q(z)\n",
    "        # 问下汉奇和浩涵\n",
    "        affine_para = self.pred_affine(vectors)\n",
    "        \n",
    "        # create an identity transformation\n",
    "        # 就是一个单位矩阵，如果没有下面的shift, 那么就是没有变换\n",
    "        affine_matrix_identity = torch.eye(3).to(device=device).expand(n,3,3)\n",
    "        # add the predicted transformation onto the identity transformation\n",
    "        # 先创建一个０元矩阵\n",
    "        affine_matrix_shift = torch.zeros((3,3)).to(device=device).expand(n,3,3)\n",
    "        # 仿射变换3x3只用到前两行，最后一行固定的\n",
    "        # 看下wikipedia\n",
    "        mask = torch.zeros_like(affine_matrix_shift, dtype=torch.bool).to(device=device)\n",
    "        mask[:, :2] = True\n",
    "        # affine_matrix = torch.zeros((n,3,3))\n",
    "        # nx3x3\n",
    "        # 把encoder预测的参数填充到前两行\n",
    "        affine_matrix_shift = affine_matrix_shift.masked_scatter(mask, affine_para.view(n, 2, 3))\n",
    "        affine_matrix = affine_matrix_shift + affine_matrix_identity\n",
    "        # 求不求逆，得看你自己想的逻辑，原图　-> 预测变换，将变换的结果用于重建　->利用变换恢复重建\n",
    "        # 应该是要求逆的，中间喂给 UL　是变换Ａ之后的图，那么最后重建后就需要用Ａ^-1恢复，反之亦然看你把预测的Ａ当成是哪个方向了\n",
    "        # affine_matrix = torch.inverse(affine_matrix)\n",
    "        # nx3x3 * 28x28x3 -> nx3x28x28\n",
    "        # 执行仿射变换的坐标运算，\n",
    "        coord_affine = torch.tensordot(affine_matrix, coord_homo, dims=([2], [2]))\n",
    "        coord_affine = torch.permute(coord_affine, (0,2,3,1))[..., :2]\n",
    "        \n",
    "        # affine transformation\n",
    "        # 根据求出的坐标利用grid_sample直接求出对应变换后的图\n",
    "        vectors_affine = grid_sample(vectors.view(-1, 1, 28, 28), coord_affine).view(n, -1)\n",
    "\n",
    "        # 我原来注释掉了上面的，所以有这一行\n",
    "        # vectors_affine = vectors\n",
    "        \n",
    "        # 把变换后的结果喂进模型，UL　就只是处理变换后的图像，这是我们想像的一假想空间，这个空间里图像的空间信息不存在\n",
    "        # 只存在生物意义的信息\n",
    "        # 当然要实现更好的效果得加上自监督\n",
    "        # 也就是我们先对图像进行一些随机变换，这是我们知道的\n",
    "        # 最后两两配对，要求预测的变换的差异等于我们随机给予的变换\n",
    "        recon, activation, PP, L_loss = self.ul(vectors_affine)\n",
    "        \n",
    "        \n",
    "        \n",
    "               \n",
    "        return recon, activation, PP, vectors_affine, L_loss"
   ]
  },
  {
   "cell_type": "code",
   "execution_count": 37,
   "id": "94499f1a",
   "metadata": {},
   "outputs": [],
   "source": [
    "batch_size = 6000\n",
    "\n",
    "model = Model()"
   ]
  },
  {
   "cell_type": "code",
   "execution_count": 38,
   "id": "895a218f",
   "metadata": {},
   "outputs": [],
   "source": [
    "# torch.norm(vectors, dim=-1)"
   ]
  },
  {
   "cell_type": "code",
   "execution_count": 39,
   "id": "b85a8601",
   "metadata": {},
   "outputs": [],
   "source": [
    "# model(vectors[:4].to(device=device))"
   ]
  },
  {
   "cell_type": "code",
   "execution_count": 40,
   "id": "ba14e094",
   "metadata": {},
   "outputs": [],
   "source": [
    "learning_rate = 1e-3\n",
    "# optimizer = torch.optim.Adam(model.parameters(), lr=learning_rate, weight_decay=1e-5)\n",
    "optimizer = torch.optim.Adam(model.parameters(), lr=learning_rate)\n",
    "criterion_label = torch.nn.BCELoss(reduction='sum')\n",
    "criterion_recon = torch.nn.MSELoss(reduction=\"mean\")"
   ]
  },
  {
   "cell_type": "code",
   "execution_count": null,
   "id": "90959860",
   "metadata": {},
   "outputs": [],
   "source": []
  },
  {
   "cell_type": "code",
   "execution_count": 41,
   "id": "78af5c01",
   "metadata": {},
   "outputs": [
    {
     "data": {
      "text/plain": [
       "tensor(0.1789)"
      ]
     },
     "execution_count": 41,
     "metadata": {},
     "output_type": "execute_result"
    }
   ],
   "source": [
    "vectors.max()"
   ]
  },
  {
   "cell_type": "code",
   "execution_count": 42,
   "id": "acda683d",
   "metadata": {},
   "outputs": [
    {
     "data": {
      "text/plain": [
       "tensor(-0.1016)"
      ]
     },
     "execution_count": 42,
     "metadata": {},
     "output_type": "execute_result"
    }
   ],
   "source": [
    "vectors.min()"
   ]
  },
  {
   "cell_type": "code",
   "execution_count": null,
   "id": "a420200c",
   "metadata": {
    "scrolled": true
   },
   "outputs": [
    {
     "name": "stderr",
     "output_type": "stream",
     "text": [
      "  0%|                                                                                                                                                                                                                                                        | 0/100000 [00:00<?, ?it/s]/home/lachlan/miniconda3/envs/eca/lib/python3.7/site-packages/torch/nn/functional.py:1956: UserWarning: nn.functional.tanh is deprecated. Use torch.tanh instead.\n",
      "  warnings.warn(\"nn.functional.tanh is deprecated. Use torch.tanh instead.\")\n",
      "/home/lachlan/miniconda3/envs/eca/lib/python3.7/site-packages/torch/nn/functional.py:4228: UserWarning: Default grid_sample and affine_grid behavior has changed to align_corners=False since 1.3.0. Please specify align_corners=True if the old behavior is desired. See the documentation of grid_sample for details.\n",
      "  \"Default grid_sample and affine_grid behavior has changed \"\n",
      "/home/lachlan/miniconda3/envs/eca/lib/python3.7/site-packages/torch/nn/functional.py:1967: UserWarning: nn.functional.sigmoid is deprecated. Use torch.sigmoid instead.\n",
      "  warnings.warn(\"nn.functional.sigmoid is deprecated. Use torch.sigmoid instead.\")\n",
      "  0%|                                                                                                                                                                                                                                             | 1/100000 [00:01<44:56:20,  1.62s/it]"
     ]
    },
    {
     "name": "stdout",
     "output_type": "stream",
     "text": [
      "loss:  tensor(65872.4867, device='cuda:0', grad_fn=<AddBackward0>)\n"
     ]
    },
    {
     "name": "stderr",
     "output_type": "stream",
     "text": [
      "  0%|                                                                                                                                                                                                                                            | 11/100000 [00:11<28:28:18,  1.03s/it]"
     ]
    },
    {
     "name": "stdout",
     "output_type": "stream",
     "text": [
      "loss:  tensor(52402.8414, device='cuda:0', grad_fn=<AddBackward0>)\n"
     ]
    },
    {
     "name": "stderr",
     "output_type": "stream",
     "text": [
      "  0%|                                                                                                                                                                                                                                            | 21/100000 [00:21<28:34:08,  1.03s/it]"
     ]
    },
    {
     "name": "stdout",
     "output_type": "stream",
     "text": [
      "loss:  tensor(49348.6479, device='cuda:0', grad_fn=<AddBackward0>)\n"
     ]
    },
    {
     "name": "stderr",
     "output_type": "stream",
     "text": [
      "  0%|                                                                                                                                                                                                                                            | 31/100000 [00:31<28:31:31,  1.03s/it]"
     ]
    },
    {
     "name": "stdout",
     "output_type": "stream",
     "text": [
      "loss:  tensor(47394.1493, device='cuda:0', grad_fn=<AddBackward0>)\n"
     ]
    },
    {
     "name": "stderr",
     "output_type": "stream",
     "text": [
      "  0%|                                                                                                                                                                                                                                            | 41/100000 [00:42<28:42:49,  1.03s/it]"
     ]
    },
    {
     "name": "stdout",
     "output_type": "stream",
     "text": [
      "loss:  tensor(45799.7264, device='cuda:0', grad_fn=<AddBackward0>)\n"
     ]
    },
    {
     "name": "stderr",
     "output_type": "stream",
     "text": [
      "  0%|                                                                                                                                                                                                                                            | 51/100000 [00:52<28:51:44,  1.04s/it]"
     ]
    },
    {
     "name": "stdout",
     "output_type": "stream",
     "text": [
      "loss:  tensor(44820.2666, device='cuda:0', grad_fn=<AddBackward0>)\n"
     ]
    },
    {
     "name": "stderr",
     "output_type": "stream",
     "text": [
      "  0%|▏                                                                                                                                                                                                                                           | 61/100000 [01:02<28:36:40,  1.03s/it]"
     ]
    },
    {
     "name": "stdout",
     "output_type": "stream",
     "text": [
      "loss:  tensor(43491.2261, device='cuda:0', grad_fn=<AddBackward0>)\n"
     ]
    },
    {
     "name": "stderr",
     "output_type": "stream",
     "text": [
      "  0%|▏                                                                                                                                                                                                                                           | 71/100000 [01:12<28:48:03,  1.04s/it]"
     ]
    },
    {
     "name": "stdout",
     "output_type": "stream",
     "text": [
      "loss:  tensor(42555.7329, device='cuda:0', grad_fn=<AddBackward0>)\n"
     ]
    },
    {
     "name": "stderr",
     "output_type": "stream",
     "text": [
      "  0%|▏                                                                                                                                                                                                                                           | 81/100000 [01:22<28:41:22,  1.03s/it]"
     ]
    },
    {
     "name": "stdout",
     "output_type": "stream",
     "text": [
      "loss:  tensor(41831.8466, device='cuda:0', grad_fn=<AddBackward0>)\n"
     ]
    },
    {
     "name": "stderr",
     "output_type": "stream",
     "text": [
      "  0%|▏                                                                                                                                                                                                                                           | 91/100000 [01:32<28:30:33,  1.03s/it]"
     ]
    },
    {
     "name": "stdout",
     "output_type": "stream",
     "text": [
      "loss:  tensor(41161.1014, device='cuda:0', grad_fn=<AddBackward0>)\n"
     ]
    },
    {
     "name": "stderr",
     "output_type": "stream",
     "text": [
      "  0%|▏                                                                                                                                                                                                                                          | 101/100000 [01:43<28:07:03,  1.01s/it]"
     ]
    },
    {
     "name": "stdout",
     "output_type": "stream",
     "text": [
      "loss:  tensor(40705.2441, device='cuda:0', grad_fn=<AddBackward0>)\n"
     ]
    },
    {
     "name": "stderr",
     "output_type": "stream",
     "text": [
      "  0%|▎                                                                                                                                                                                                                                          | 111/100000 [01:53<28:29:43,  1.03s/it]"
     ]
    },
    {
     "name": "stdout",
     "output_type": "stream",
     "text": [
      "loss:  tensor(40009.7683, device='cuda:0', grad_fn=<AddBackward0>)\n"
     ]
    },
    {
     "name": "stderr",
     "output_type": "stream",
     "text": [
      "  0%|▎                                                                                                                                                                                                                                          | 121/100000 [02:03<28:13:46,  1.02s/it]"
     ]
    },
    {
     "name": "stdout",
     "output_type": "stream",
     "text": [
      "loss:  tensor(39557.1568, device='cuda:0', grad_fn=<AddBackward0>)\n"
     ]
    },
    {
     "name": "stderr",
     "output_type": "stream",
     "text": [
      "  0%|▎                                                                                                                                                                                                                                          | 131/100000 [02:13<28:23:26,  1.02s/it]"
     ]
    },
    {
     "name": "stdout",
     "output_type": "stream",
     "text": [
      "loss:  tensor(39265.2600, device='cuda:0', grad_fn=<AddBackward0>)\n"
     ]
    },
    {
     "name": "stderr",
     "output_type": "stream",
     "text": [
      "  0%|▎                                                                                                                                                                                                                                          | 141/100000 [02:23<28:55:33,  1.04s/it]"
     ]
    },
    {
     "name": "stdout",
     "output_type": "stream",
     "text": [
      "loss:  tensor(38821.1903, device='cuda:0', grad_fn=<AddBackward0>)\n"
     ]
    },
    {
     "name": "stderr",
     "output_type": "stream",
     "text": [
      "  0%|▎                                                                                                                                                                                                                                          | 151/100000 [02:33<28:50:22,  1.04s/it]"
     ]
    },
    {
     "name": "stdout",
     "output_type": "stream",
     "text": [
      "loss:  tensor(38277.6235, device='cuda:0', grad_fn=<AddBackward0>)\n"
     ]
    },
    {
     "name": "stderr",
     "output_type": "stream",
     "text": [
      "  0%|▍                                                                                                                                                                                                                                          | 161/100000 [02:43<28:41:36,  1.03s/it]"
     ]
    },
    {
     "name": "stdout",
     "output_type": "stream",
     "text": [
      "loss:  tensor(37895.4526, device='cuda:0', grad_fn=<AddBackward0>)\n"
     ]
    },
    {
     "name": "stderr",
     "output_type": "stream",
     "text": [
      "  0%|▍                                                                                                                                                                                                                                          | 171/100000 [02:53<28:25:05,  1.02s/it]"
     ]
    },
    {
     "name": "stdout",
     "output_type": "stream",
     "text": [
      "loss:  tensor(37439.1645, device='cuda:0', grad_fn=<AddBackward0>)\n"
     ]
    },
    {
     "name": "stderr",
     "output_type": "stream",
     "text": [
      "  0%|▍                                                                                                                                                                                                                                          | 181/100000 [03:04<28:32:39,  1.03s/it]"
     ]
    },
    {
     "name": "stdout",
     "output_type": "stream",
     "text": [
      "loss:  tensor(37169.3661, device='cuda:0', grad_fn=<AddBackward0>)\n"
     ]
    },
    {
     "name": "stderr",
     "output_type": "stream",
     "text": [
      "  0%|▍                                                                                                                                                                                                                                          | 191/100000 [03:14<28:42:32,  1.04s/it]"
     ]
    },
    {
     "name": "stdout",
     "output_type": "stream",
     "text": [
      "loss:  tensor(37011.8478, device='cuda:0', grad_fn=<AddBackward0>)\n"
     ]
    },
    {
     "name": "stderr",
     "output_type": "stream",
     "text": [
      "  0%|▍                                                                                                                                                                                                                                          | 201/100000 [03:24<28:21:09,  1.02s/it]"
     ]
    },
    {
     "name": "stdout",
     "output_type": "stream",
     "text": [
      "loss:  tensor(36500.5111, device='cuda:0', grad_fn=<AddBackward0>)\n"
     ]
    },
    {
     "name": "stderr",
     "output_type": "stream",
     "text": [
      "  0%|▍                                                                                                                                                                                                                                          | 211/100000 [03:34<28:17:50,  1.02s/it]"
     ]
    },
    {
     "name": "stdout",
     "output_type": "stream",
     "text": [
      "loss:  tensor(36332.4021, device='cuda:0', grad_fn=<AddBackward0>)\n"
     ]
    },
    {
     "name": "stderr",
     "output_type": "stream",
     "text": [
      "  0%|▌                                                                                                                                                                                                                                          | 221/100000 [03:44<28:33:11,  1.03s/it]"
     ]
    },
    {
     "name": "stdout",
     "output_type": "stream",
     "text": [
      "loss:  tensor(35937.6305, device='cuda:0', grad_fn=<AddBackward0>)\n"
     ]
    },
    {
     "name": "stderr",
     "output_type": "stream",
     "text": [
      "  0%|▌                                                                                                                                                                                                                                          | 231/100000 [03:54<28:34:51,  1.03s/it]"
     ]
    },
    {
     "name": "stdout",
     "output_type": "stream",
     "text": [
      "loss:  tensor(35759.2270, device='cuda:0', grad_fn=<AddBackward0>)\n"
     ]
    },
    {
     "name": "stderr",
     "output_type": "stream",
     "text": [
      "  0%|▌                                                                                                                                                                                                                                          | 241/100000 [04:04<28:20:20,  1.02s/it]"
     ]
    },
    {
     "name": "stdout",
     "output_type": "stream",
     "text": [
      "loss:  tensor(35355.1574, device='cuda:0', grad_fn=<AddBackward0>)\n"
     ]
    },
    {
     "name": "stderr",
     "output_type": "stream",
     "text": [
      "  0%|▌                                                                                                                                                                                                                                          | 251/100000 [04:14<28:10:36,  1.02s/it]"
     ]
    },
    {
     "name": "stdout",
     "output_type": "stream",
     "text": [
      "loss:  tensor(35046.5126, device='cuda:0', grad_fn=<AddBackward0>)\n"
     ]
    },
    {
     "name": "stderr",
     "output_type": "stream",
     "text": [
      "  0%|▌                                                                                                                                                                                                                                          | 261/100000 [04:24<28:36:22,  1.03s/it]"
     ]
    },
    {
     "name": "stdout",
     "output_type": "stream",
     "text": [
      "loss:  tensor(35131.2407, device='cuda:0', grad_fn=<AddBackward0>)\n"
     ]
    },
    {
     "name": "stderr",
     "output_type": "stream",
     "text": [
      "  0%|▋                                                                                                                                                                                                                                          | 271/100000 [04:34<28:12:34,  1.02s/it]"
     ]
    },
    {
     "name": "stdout",
     "output_type": "stream",
     "text": [
      "loss:  tensor(34588.3746, device='cuda:0', grad_fn=<AddBackward0>)\n"
     ]
    },
    {
     "name": "stderr",
     "output_type": "stream",
     "text": [
      "  0%|▋                                                                                                                                                                                                                                          | 281/100000 [04:44<28:01:14,  1.01s/it]"
     ]
    },
    {
     "name": "stdout",
     "output_type": "stream",
     "text": [
      "loss:  tensor(34390.2039, device='cuda:0', grad_fn=<AddBackward0>)\n"
     ]
    },
    {
     "name": "stderr",
     "output_type": "stream",
     "text": [
      "  0%|▋                                                                                                                                                                                                                                          | 291/100000 [04:54<28:13:18,  1.02s/it]"
     ]
    },
    {
     "name": "stdout",
     "output_type": "stream",
     "text": [
      "loss:  tensor(34103.2465, device='cuda:0', grad_fn=<AddBackward0>)\n"
     ]
    },
    {
     "name": "stderr",
     "output_type": "stream",
     "text": [
      "  0%|▋                                                                                                                                                                                                                                          | 301/100000 [05:04<28:20:02,  1.02s/it]"
     ]
    },
    {
     "name": "stdout",
     "output_type": "stream",
     "text": [
      "loss:  tensor(34043.6603, device='cuda:0', grad_fn=<AddBackward0>)\n"
     ]
    },
    {
     "name": "stderr",
     "output_type": "stream",
     "text": [
      "  0%|▋                                                                                                                                                                                                                                          | 311/100000 [05:14<28:03:25,  1.01s/it]"
     ]
    },
    {
     "name": "stdout",
     "output_type": "stream",
     "text": [
      "loss:  tensor(33864.8307, device='cuda:0', grad_fn=<AddBackward0>)\n"
     ]
    },
    {
     "name": "stderr",
     "output_type": "stream",
     "text": [
      "  0%|▊                                                                                                                                                                                                                                          | 321/100000 [05:24<28:40:56,  1.04s/it]"
     ]
    },
    {
     "name": "stdout",
     "output_type": "stream",
     "text": [
      "loss:  tensor(33710.3540, device='cuda:0', grad_fn=<AddBackward0>)\n"
     ]
    },
    {
     "name": "stderr",
     "output_type": "stream",
     "text": [
      "  0%|▊                                                                                                                                                                                                                                          | 331/100000 [05:34<28:12:26,  1.02s/it]"
     ]
    },
    {
     "name": "stdout",
     "output_type": "stream",
     "text": [
      "loss:  tensor(33459.9546, device='cuda:0', grad_fn=<AddBackward0>)\n"
     ]
    },
    {
     "name": "stderr",
     "output_type": "stream",
     "text": [
      "  0%|▊                                                                                                                                                                                                                                          | 341/100000 [05:44<28:11:56,  1.02s/it]"
     ]
    },
    {
     "name": "stdout",
     "output_type": "stream",
     "text": [
      "loss:  tensor(33301.9451, device='cuda:0', grad_fn=<AddBackward0>)\n"
     ]
    },
    {
     "name": "stderr",
     "output_type": "stream",
     "text": [
      "  0%|▊                                                                                                                                                                                                                                          | 351/100000 [05:54<28:24:57,  1.03s/it]"
     ]
    },
    {
     "name": "stdout",
     "output_type": "stream",
     "text": [
      "loss:  tensor(33170.7108, device='cuda:0', grad_fn=<AddBackward0>)\n"
     ]
    },
    {
     "name": "stderr",
     "output_type": "stream",
     "text": [
      "  0%|▊                                                                                                                                                                                                                                          | 361/100000 [06:04<28:30:19,  1.03s/it]"
     ]
    },
    {
     "name": "stdout",
     "output_type": "stream",
     "text": [
      "loss:  tensor(32865.3721, device='cuda:0', grad_fn=<AddBackward0>)\n"
     ]
    },
    {
     "name": "stderr",
     "output_type": "stream",
     "text": [
      "  0%|▊                                                                                                                                                                                                                                          | 371/100000 [06:15<28:07:58,  1.02s/it]"
     ]
    },
    {
     "name": "stdout",
     "output_type": "stream",
     "text": [
      "loss:  tensor(32880.4915, device='cuda:0', grad_fn=<AddBackward0>)\n"
     ]
    },
    {
     "name": "stderr",
     "output_type": "stream",
     "text": [
      "  0%|▉                                                                                                                                                                                                                                          | 381/100000 [06:25<28:40:46,  1.04s/it]"
     ]
    },
    {
     "name": "stdout",
     "output_type": "stream",
     "text": [
      "loss:  tensor(32623.4099, device='cuda:0', grad_fn=<AddBackward0>)\n"
     ]
    },
    {
     "name": "stderr",
     "output_type": "stream",
     "text": [
      "  0%|▉                                                                                                                                                                                                                                          | 391/100000 [06:35<27:56:29,  1.01s/it]"
     ]
    },
    {
     "name": "stdout",
     "output_type": "stream",
     "text": [
      "loss:  tensor(32451.3554, device='cuda:0', grad_fn=<AddBackward0>)\n"
     ]
    },
    {
     "name": "stderr",
     "output_type": "stream",
     "text": [
      "  0%|▉                                                                                                                                                                                                                                          | 401/100000 [06:45<28:28:16,  1.03s/it]"
     ]
    },
    {
     "name": "stdout",
     "output_type": "stream",
     "text": [
      "loss:  tensor(32297.5883, device='cuda:0', grad_fn=<AddBackward0>)\n"
     ]
    },
    {
     "name": "stderr",
     "output_type": "stream",
     "text": [
      "  0%|▉                                                                                                                                                                                                                                          | 411/100000 [06:55<28:19:58,  1.02s/it]"
     ]
    },
    {
     "name": "stdout",
     "output_type": "stream",
     "text": [
      "loss:  tensor(32206.1987, device='cuda:0', grad_fn=<AddBackward0>)\n"
     ]
    },
    {
     "name": "stderr",
     "output_type": "stream",
     "text": [
      "  0%|▉                                                                                                                                                                                                                                          | 421/100000 [07:05<28:18:06,  1.02s/it]"
     ]
    },
    {
     "name": "stdout",
     "output_type": "stream",
     "text": [
      "loss:  tensor(31895.9701, device='cuda:0', grad_fn=<AddBackward0>)\n"
     ]
    },
    {
     "name": "stderr",
     "output_type": "stream",
     "text": [
      "  0%|█                                                                                                                                                                                                                                          | 431/100000 [07:15<28:12:53,  1.02s/it]"
     ]
    },
    {
     "name": "stdout",
     "output_type": "stream",
     "text": [
      "loss:  tensor(31919.9754, device='cuda:0', grad_fn=<AddBackward0>)\n"
     ]
    },
    {
     "name": "stderr",
     "output_type": "stream",
     "text": [
      "  0%|█                                                                                                                                                                                                                                          | 441/100000 [07:25<28:11:57,  1.02s/it]"
     ]
    },
    {
     "name": "stdout",
     "output_type": "stream",
     "text": [
      "loss:  tensor(31686.4940, device='cuda:0', grad_fn=<AddBackward0>)\n"
     ]
    },
    {
     "name": "stderr",
     "output_type": "stream",
     "text": [
      "  0%|█                                                                                                                                                                                                                                          | 451/100000 [07:35<28:06:39,  1.02s/it]"
     ]
    },
    {
     "name": "stdout",
     "output_type": "stream",
     "text": [
      "loss:  tensor(31650.6004, device='cuda:0', grad_fn=<AddBackward0>)\n"
     ]
    },
    {
     "name": "stderr",
     "output_type": "stream",
     "text": [
      "  0%|█                                                                                                                                                                                                                                          | 461/100000 [07:45<28:06:05,  1.02s/it]"
     ]
    },
    {
     "name": "stdout",
     "output_type": "stream",
     "text": [
      "loss:  tensor(31271.2296, device='cuda:0', grad_fn=<AddBackward0>)\n"
     ]
    },
    {
     "name": "stderr",
     "output_type": "stream",
     "text": [
      "  0%|█                                                                                                                                                                                                                                          | 471/100000 [07:55<28:15:25,  1.02s/it]"
     ]
    },
    {
     "name": "stdout",
     "output_type": "stream",
     "text": [
      "loss:  tensor(31270.5958, device='cuda:0', grad_fn=<AddBackward0>)\n"
     ]
    },
    {
     "name": "stderr",
     "output_type": "stream",
     "text": [
      "  0%|█▏                                                                                                                                                                                                                                         | 481/100000 [08:05<28:06:48,  1.02s/it]"
     ]
    },
    {
     "name": "stdout",
     "output_type": "stream",
     "text": [
      "loss:  tensor(30971.4750, device='cuda:0', grad_fn=<AddBackward0>)\n"
     ]
    },
    {
     "name": "stderr",
     "output_type": "stream",
     "text": [
      "  0%|█▏                                                                                                                                                                                                                                         | 491/100000 [08:15<28:48:47,  1.04s/it]"
     ]
    },
    {
     "name": "stdout",
     "output_type": "stream",
     "text": [
      "loss:  tensor(31018.6280, device='cuda:0', grad_fn=<AddBackward0>)\n"
     ]
    },
    {
     "name": "stderr",
     "output_type": "stream",
     "text": [
      "  1%|█▏                                                                                                                                                                                                                                         | 501/100000 [08:25<28:30:03,  1.03s/it]"
     ]
    },
    {
     "name": "stdout",
     "output_type": "stream",
     "text": [
      "loss:  tensor(30885.3142, device='cuda:0', grad_fn=<AddBackward0>)\n"
     ]
    },
    {
     "name": "stderr",
     "output_type": "stream",
     "text": [
      "  1%|█▏                                                                                                                                                                                                                                         | 511/100000 [08:35<28:09:08,  1.02s/it]"
     ]
    },
    {
     "name": "stdout",
     "output_type": "stream",
     "text": [
      "loss:  tensor(30773.3690, device='cuda:0', grad_fn=<AddBackward0>)\n"
     ]
    },
    {
     "name": "stderr",
     "output_type": "stream",
     "text": [
      "  1%|█▏                                                                                                                                                                                                                                         | 521/100000 [08:45<28:17:09,  1.02s/it]"
     ]
    },
    {
     "name": "stdout",
     "output_type": "stream",
     "text": [
      "loss:  tensor(30583.4805, device='cuda:0', grad_fn=<AddBackward0>)\n"
     ]
    },
    {
     "name": "stderr",
     "output_type": "stream",
     "text": [
      "  1%|█▏                                                                                                                                                                                                                                         | 531/100000 [08:56<28:35:32,  1.03s/it]"
     ]
    },
    {
     "name": "stdout",
     "output_type": "stream",
     "text": [
      "loss:  tensor(30588.8159, device='cuda:0', grad_fn=<AddBackward0>)\n"
     ]
    },
    {
     "name": "stderr",
     "output_type": "stream",
     "text": [
      "  1%|█▎                                                                                                                                                                                                                                         | 541/100000 [09:06<28:01:34,  1.01s/it]"
     ]
    },
    {
     "name": "stdout",
     "output_type": "stream",
     "text": [
      "loss:  tensor(30512.5224, device='cuda:0', grad_fn=<AddBackward0>)\n"
     ]
    },
    {
     "name": "stderr",
     "output_type": "stream",
     "text": [
      "  1%|█▎                                                                                                                                                                                                                                         | 551/100000 [09:16<28:16:48,  1.02s/it]"
     ]
    },
    {
     "name": "stdout",
     "output_type": "stream",
     "text": [
      "loss:  tensor(30238.6853, device='cuda:0', grad_fn=<AddBackward0>)\n"
     ]
    },
    {
     "name": "stderr",
     "output_type": "stream",
     "text": [
      "  1%|█▎                                                                                                                                                                                                                                         | 561/100000 [09:26<28:12:00,  1.02s/it]"
     ]
    },
    {
     "name": "stdout",
     "output_type": "stream",
     "text": [
      "loss:  tensor(30243.4150, device='cuda:0', grad_fn=<AddBackward0>)\n"
     ]
    },
    {
     "name": "stderr",
     "output_type": "stream",
     "text": [
      "  1%|█▎                                                                                                                                                                                                                                         | 571/100000 [09:36<28:48:27,  1.04s/it]"
     ]
    },
    {
     "name": "stdout",
     "output_type": "stream",
     "text": [
      "loss:  tensor(30231.3426, device='cuda:0', grad_fn=<AddBackward0>)\n"
     ]
    },
    {
     "name": "stderr",
     "output_type": "stream",
     "text": [
      "  1%|█▎                                                                                                                                                                                                                                         | 581/100000 [09:46<28:14:30,  1.02s/it]"
     ]
    },
    {
     "name": "stdout",
     "output_type": "stream",
     "text": [
      "loss:  tensor(29954.1324, device='cuda:0', grad_fn=<AddBackward0>)\n"
     ]
    },
    {
     "name": "stderr",
     "output_type": "stream",
     "text": [
      "  1%|█▍                                                                                                                                                                                                                                         | 591/100000 [09:56<27:56:50,  1.01s/it]"
     ]
    },
    {
     "name": "stdout",
     "output_type": "stream",
     "text": [
      "loss:  tensor(29873.4140, device='cuda:0', grad_fn=<AddBackward0>)\n"
     ]
    },
    {
     "name": "stderr",
     "output_type": "stream",
     "text": [
      "  1%|█▍                                                                                                                                                                                                                                         | 601/100000 [10:06<28:07:51,  1.02s/it]"
     ]
    },
    {
     "name": "stdout",
     "output_type": "stream",
     "text": [
      "loss:  tensor(29911.0887, device='cuda:0', grad_fn=<AddBackward0>)\n"
     ]
    },
    {
     "name": "stderr",
     "output_type": "stream",
     "text": [
      "  1%|█▍                                                                                                                                                                                                                                         | 611/100000 [10:16<28:50:06,  1.04s/it]"
     ]
    },
    {
     "name": "stdout",
     "output_type": "stream",
     "text": [
      "loss:  tensor(29714.8052, device='cuda:0', grad_fn=<AddBackward0>)\n"
     ]
    },
    {
     "name": "stderr",
     "output_type": "stream",
     "text": [
      "  1%|█▍                                                                                                                                                                                                                                         | 621/100000 [10:26<28:07:39,  1.02s/it]"
     ]
    },
    {
     "name": "stdout",
     "output_type": "stream",
     "text": [
      "loss:  tensor(29595.7637, device='cuda:0', grad_fn=<AddBackward0>)\n"
     ]
    },
    {
     "name": "stderr",
     "output_type": "stream",
     "text": [
      "  1%|█▍                                                                                                                                                                                                                                         | 631/100000 [10:36<28:00:14,  1.01s/it]"
     ]
    },
    {
     "name": "stdout",
     "output_type": "stream",
     "text": [
      "loss:  tensor(29685.0160, device='cuda:0', grad_fn=<AddBackward0>)\n"
     ]
    },
    {
     "name": "stderr",
     "output_type": "stream",
     "text": [
      "  1%|█▌                                                                                                                                                                                                                                         | 641/100000 [10:46<28:12:36,  1.02s/it]"
     ]
    },
    {
     "name": "stdout",
     "output_type": "stream",
     "text": [
      "loss:  tensor(29394.7358, device='cuda:0', grad_fn=<AddBackward0>)\n"
     ]
    },
    {
     "name": "stderr",
     "output_type": "stream",
     "text": [
      "  1%|█▌                                                                                                                                                                                                                                         | 651/100000 [10:56<27:59:59,  1.01s/it]"
     ]
    },
    {
     "name": "stdout",
     "output_type": "stream",
     "text": [
      "loss:  tensor(29426.1925, device='cuda:0', grad_fn=<AddBackward0>)\n"
     ]
    },
    {
     "name": "stderr",
     "output_type": "stream",
     "text": [
      "  1%|█▌                                                                                                                                                                                                                                         | 661/100000 [11:06<28:09:23,  1.02s/it]"
     ]
    },
    {
     "name": "stdout",
     "output_type": "stream",
     "text": [
      "loss:  tensor(29248.4845, device='cuda:0', grad_fn=<AddBackward0>)\n"
     ]
    },
    {
     "name": "stderr",
     "output_type": "stream",
     "text": [
      "  1%|█▌                                                                                                                                                                                                                                         | 671/100000 [11:16<28:03:54,  1.02s/it]"
     ]
    },
    {
     "name": "stdout",
     "output_type": "stream",
     "text": [
      "loss:  tensor(29227.1531, device='cuda:0', grad_fn=<AddBackward0>)\n"
     ]
    },
    {
     "name": "stderr",
     "output_type": "stream",
     "text": [
      "  1%|█▌                                                                                                                                                                                                                                         | 681/100000 [11:26<28:11:20,  1.02s/it]"
     ]
    },
    {
     "name": "stdout",
     "output_type": "stream",
     "text": [
      "loss:  tensor(29101.5811, device='cuda:0', grad_fn=<AddBackward0>)\n"
     ]
    },
    {
     "name": "stderr",
     "output_type": "stream",
     "text": [
      "  1%|█▌                                                                                                                                                                                                                                         | 691/100000 [11:36<28:05:44,  1.02s/it]"
     ]
    },
    {
     "name": "stdout",
     "output_type": "stream",
     "text": [
      "loss:  tensor(29067.7472, device='cuda:0', grad_fn=<AddBackward0>)\n"
     ]
    },
    {
     "name": "stderr",
     "output_type": "stream",
     "text": [
      "  1%|█▋                                                                                                                                                                                                                                         | 701/100000 [11:46<28:52:56,  1.05s/it]"
     ]
    },
    {
     "name": "stdout",
     "output_type": "stream",
     "text": [
      "loss:  tensor(29029.6135, device='cuda:0', grad_fn=<AddBackward0>)\n"
     ]
    },
    {
     "name": "stderr",
     "output_type": "stream",
     "text": [
      "  1%|█▋                                                                                                                                                                                                                                         | 711/100000 [11:57<28:15:43,  1.02s/it]"
     ]
    },
    {
     "name": "stdout",
     "output_type": "stream",
     "text": [
      "loss:  tensor(28858.0300, device='cuda:0', grad_fn=<AddBackward0>)\n"
     ]
    },
    {
     "name": "stderr",
     "output_type": "stream",
     "text": [
      "  1%|█▋                                                                                                                                                                                                                                         | 721/100000 [12:07<28:43:02,  1.04s/it]"
     ]
    },
    {
     "name": "stdout",
     "output_type": "stream",
     "text": [
      "loss:  tensor(28794.8995, device='cuda:0', grad_fn=<AddBackward0>)\n"
     ]
    },
    {
     "name": "stderr",
     "output_type": "stream",
     "text": [
      "  1%|█▋                                                                                                                                                                                                                                         | 731/100000 [12:17<28:12:15,  1.02s/it]"
     ]
    },
    {
     "name": "stdout",
     "output_type": "stream",
     "text": [
      "loss:  tensor(28603.5251, device='cuda:0', grad_fn=<AddBackward0>)\n"
     ]
    },
    {
     "name": "stderr",
     "output_type": "stream",
     "text": [
      "  1%|█▋                                                                                                                                                                                                                                         | 741/100000 [12:27<27:58:59,  1.01s/it]"
     ]
    },
    {
     "name": "stdout",
     "output_type": "stream",
     "text": [
      "loss:  tensor(28511.0019, device='cuda:0', grad_fn=<AddBackward0>)\n"
     ]
    },
    {
     "name": "stderr",
     "output_type": "stream",
     "text": [
      "  1%|█▊                                                                                                                                                                                                                                         | 751/100000 [12:37<28:34:09,  1.04s/it]"
     ]
    },
    {
     "name": "stdout",
     "output_type": "stream",
     "text": [
      "loss:  tensor(28531.2710, device='cuda:0', grad_fn=<AddBackward0>)\n"
     ]
    },
    {
     "name": "stderr",
     "output_type": "stream",
     "text": [
      "  1%|█▊                                                                                                                                                                                                                                         | 761/100000 [12:47<28:03:34,  1.02s/it]"
     ]
    },
    {
     "name": "stdout",
     "output_type": "stream",
     "text": [
      "loss:  tensor(28416.7678, device='cuda:0', grad_fn=<AddBackward0>)\n"
     ]
    },
    {
     "name": "stderr",
     "output_type": "stream",
     "text": [
      "  1%|█▊                                                                                                                                                                                                                                         | 771/100000 [12:57<27:56:47,  1.01s/it]"
     ]
    },
    {
     "name": "stdout",
     "output_type": "stream",
     "text": [
      "loss:  tensor(28224.6602, device='cuda:0', grad_fn=<AddBackward0>)\n"
     ]
    },
    {
     "name": "stderr",
     "output_type": "stream",
     "text": [
      "  1%|█▊                                                                                                                                                                                                                                         | 781/100000 [13:07<28:11:23,  1.02s/it]"
     ]
    },
    {
     "name": "stdout",
     "output_type": "stream",
     "text": [
      "loss:  tensor(28378.2994, device='cuda:0', grad_fn=<AddBackward0>)\n"
     ]
    },
    {
     "name": "stderr",
     "output_type": "stream",
     "text": [
      "  1%|█▊                                                                                                                                                                                                                                         | 791/100000 [13:17<28:04:36,  1.02s/it]"
     ]
    },
    {
     "name": "stdout",
     "output_type": "stream",
     "text": [
      "loss:  tensor(28067.3631, device='cuda:0', grad_fn=<AddBackward0>)\n"
     ]
    },
    {
     "name": "stderr",
     "output_type": "stream",
     "text": [
      "  1%|█▉                                                                                                                                                                                                                                         | 801/100000 [13:27<28:00:54,  1.02s/it]"
     ]
    },
    {
     "name": "stdout",
     "output_type": "stream",
     "text": [
      "loss:  tensor(28006.5284, device='cuda:0', grad_fn=<AddBackward0>)\n"
     ]
    },
    {
     "name": "stderr",
     "output_type": "stream",
     "text": [
      "  1%|█▉                                                                                                                                                                                                                                         | 811/100000 [13:37<27:59:03,  1.02s/it]"
     ]
    },
    {
     "name": "stdout",
     "output_type": "stream",
     "text": [
      "loss:  tensor(28101.7902, device='cuda:0', grad_fn=<AddBackward0>)\n"
     ]
    },
    {
     "name": "stderr",
     "output_type": "stream",
     "text": [
      "  1%|█▉                                                                                                                                                                                                                                         | 821/100000 [13:47<28:06:05,  1.02s/it]"
     ]
    },
    {
     "name": "stdout",
     "output_type": "stream",
     "text": [
      "loss:  tensor(27943.7483, device='cuda:0', grad_fn=<AddBackward0>)\n"
     ]
    },
    {
     "name": "stderr",
     "output_type": "stream",
     "text": [
      "  1%|█▉                                                                                                                                                                                                                                         | 831/100000 [13:57<27:48:23,  1.01s/it]"
     ]
    },
    {
     "name": "stdout",
     "output_type": "stream",
     "text": [
      "loss:  tensor(27791.1697, device='cuda:0', grad_fn=<AddBackward0>)\n"
     ]
    },
    {
     "name": "stderr",
     "output_type": "stream",
     "text": [
      "  1%|█▉                                                                                                                                                                                                                                         | 841/100000 [14:07<28:44:20,  1.04s/it]"
     ]
    },
    {
     "name": "stdout",
     "output_type": "stream",
     "text": [
      "loss:  tensor(27712.8536, device='cuda:0', grad_fn=<AddBackward0>)\n"
     ]
    },
    {
     "name": "stderr",
     "output_type": "stream",
     "text": [
      "  1%|█▉                                                                                                                                                                                                                                         | 851/100000 [14:17<28:06:11,  1.02s/it]"
     ]
    },
    {
     "name": "stdout",
     "output_type": "stream",
     "text": [
      "loss:  tensor(27629.2286, device='cuda:0', grad_fn=<AddBackward0>)\n"
     ]
    },
    {
     "name": "stderr",
     "output_type": "stream",
     "text": [
      "  1%|██                                                                                                                                                                                                                                         | 861/100000 [14:27<27:53:13,  1.01s/it]"
     ]
    },
    {
     "name": "stdout",
     "output_type": "stream",
     "text": [
      "loss:  tensor(27361.6371, device='cuda:0', grad_fn=<AddBackward0>)\n"
     ]
    },
    {
     "name": "stderr",
     "output_type": "stream",
     "text": [
      "  1%|██                                                                                                                                                                                                                                         | 871/100000 [14:37<28:01:25,  1.02s/it]"
     ]
    },
    {
     "name": "stdout",
     "output_type": "stream",
     "text": [
      "loss:  tensor(27169.2783, device='cuda:0', grad_fn=<AddBackward0>)\n"
     ]
    },
    {
     "name": "stderr",
     "output_type": "stream",
     "text": [
      "  1%|██                                                                                                                                                                                                                                         | 881/100000 [14:47<28:01:01,  1.02s/it]"
     ]
    },
    {
     "name": "stdout",
     "output_type": "stream",
     "text": [
      "loss:  tensor(27092.5715, device='cuda:0', grad_fn=<AddBackward0>)\n"
     ]
    },
    {
     "name": "stderr",
     "output_type": "stream",
     "text": [
      "  1%|██                                                                                                                                                                                                                                         | 891/100000 [14:57<28:00:06,  1.02s/it]"
     ]
    },
    {
     "name": "stdout",
     "output_type": "stream",
     "text": [
      "loss:  tensor(26949.3150, device='cuda:0', grad_fn=<AddBackward0>)\n"
     ]
    },
    {
     "name": "stderr",
     "output_type": "stream",
     "text": [
      "  1%|██                                                                                                                                                                                                                                         | 901/100000 [15:07<28:13:16,  1.03s/it]"
     ]
    },
    {
     "name": "stdout",
     "output_type": "stream",
     "text": [
      "loss:  tensor(26816.8756, device='cuda:0', grad_fn=<AddBackward0>)\n"
     ]
    },
    {
     "name": "stderr",
     "output_type": "stream",
     "text": [
      "  1%|██▏                                                                                                                                                                                                                                        | 911/100000 [15:17<28:02:04,  1.02s/it]"
     ]
    },
    {
     "name": "stdout",
     "output_type": "stream",
     "text": [
      "loss:  tensor(26488.4232, device='cuda:0', grad_fn=<AddBackward0>)\n"
     ]
    },
    {
     "name": "stderr",
     "output_type": "stream",
     "text": [
      "  1%|██▏                                                                                                                                                                                                                                        | 921/100000 [15:27<28:10:08,  1.02s/it]"
     ]
    },
    {
     "name": "stdout",
     "output_type": "stream",
     "text": [
      "loss:  tensor(26241.2217, device='cuda:0', grad_fn=<AddBackward0>)\n"
     ]
    },
    {
     "name": "stderr",
     "output_type": "stream",
     "text": [
      "  1%|██▏                                                                                                                                                                                                                                        | 931/100000 [15:37<27:54:10,  1.01s/it]"
     ]
    },
    {
     "name": "stdout",
     "output_type": "stream",
     "text": [
      "loss:  tensor(25949.6624, device='cuda:0', grad_fn=<AddBackward0>)\n"
     ]
    },
    {
     "name": "stderr",
     "output_type": "stream",
     "text": [
      "  1%|██▏                                                                                                                                                                                                                                        | 941/100000 [15:48<28:05:25,  1.02s/it]"
     ]
    },
    {
     "name": "stdout",
     "output_type": "stream",
     "text": [
      "loss:  tensor(25594.9335, device='cuda:0', grad_fn=<AddBackward0>)\n"
     ]
    },
    {
     "name": "stderr",
     "output_type": "stream",
     "text": [
      "  1%|██▏                                                                                                                                                                                                                                        | 951/100000 [15:58<29:09:46,  1.06s/it]"
     ]
    },
    {
     "name": "stdout",
     "output_type": "stream",
     "text": [
      "loss:  tensor(25804.9601, device='cuda:0', grad_fn=<AddBackward0>)\n"
     ]
    },
    {
     "name": "stderr",
     "output_type": "stream",
     "text": [
      "  1%|██▎                                                                                                                                                                                                                                        | 961/100000 [16:08<28:25:16,  1.03s/it]"
     ]
    },
    {
     "name": "stdout",
     "output_type": "stream",
     "text": [
      "loss:  tensor(25624.4445, device='cuda:0', grad_fn=<AddBackward0>)\n"
     ]
    },
    {
     "name": "stderr",
     "output_type": "stream",
     "text": [
      "  1%|██▎                                                                                                                                                                                                                                        | 971/100000 [16:18<28:37:06,  1.04s/it]"
     ]
    },
    {
     "name": "stdout",
     "output_type": "stream",
     "text": [
      "loss:  tensor(25469.9166, device='cuda:0', grad_fn=<AddBackward0>)\n"
     ]
    },
    {
     "name": "stderr",
     "output_type": "stream",
     "text": [
      "  1%|██▎                                                                                                                                                                                                                                        | 981/100000 [16:28<27:50:13,  1.01s/it]"
     ]
    },
    {
     "name": "stdout",
     "output_type": "stream",
     "text": [
      "loss:  tensor(25373.4412, device='cuda:0', grad_fn=<AddBackward0>)\n"
     ]
    },
    {
     "name": "stderr",
     "output_type": "stream",
     "text": [
      "  1%|██▎                                                                                                                                                                                                                                        | 991/100000 [16:38<28:07:04,  1.02s/it]"
     ]
    },
    {
     "name": "stdout",
     "output_type": "stream",
     "text": [
      "loss:  tensor(25308.2203, device='cuda:0', grad_fn=<AddBackward0>)\n"
     ]
    },
    {
     "name": "stderr",
     "output_type": "stream",
     "text": [
      "  1%|██▎                                                                                                                                                                                                                                       | 1001/100000 [16:48<28:05:17,  1.02s/it]"
     ]
    },
    {
     "name": "stdout",
     "output_type": "stream",
     "text": [
      "loss:  tensor(25263.6939, device='cuda:0', grad_fn=<AddBackward0>)\n"
     ]
    },
    {
     "name": "stderr",
     "output_type": "stream",
     "text": [
      "  1%|██▎                                                                                                                                                                                                                                       | 1011/100000 [16:58<27:54:16,  1.01s/it]"
     ]
    },
    {
     "name": "stdout",
     "output_type": "stream",
     "text": [
      "loss:  tensor(25064.5389, device='cuda:0', grad_fn=<AddBackward0>)\n"
     ]
    },
    {
     "name": "stderr",
     "output_type": "stream",
     "text": [
      "  1%|██▍                                                                                                                                                                                                                                       | 1021/100000 [17:08<28:35:32,  1.04s/it]"
     ]
    },
    {
     "name": "stdout",
     "output_type": "stream",
     "text": [
      "loss:  tensor(25018.7066, device='cuda:0', grad_fn=<AddBackward0>)\n"
     ]
    },
    {
     "name": "stderr",
     "output_type": "stream",
     "text": [
      "  1%|██▍                                                                                                                                                                                                                                       | 1031/100000 [17:18<28:11:14,  1.03s/it]"
     ]
    },
    {
     "name": "stdout",
     "output_type": "stream",
     "text": [
      "loss:  tensor(25086.8359, device='cuda:0', grad_fn=<AddBackward0>)\n"
     ]
    },
    {
     "name": "stderr",
     "output_type": "stream",
     "text": [
      "  1%|██▍                                                                                                                                                                                                                                       | 1041/100000 [17:28<28:00:47,  1.02s/it]"
     ]
    },
    {
     "name": "stdout",
     "output_type": "stream",
     "text": [
      "loss:  tensor(24902.9218, device='cuda:0', grad_fn=<AddBackward0>)\n"
     ]
    },
    {
     "name": "stderr",
     "output_type": "stream",
     "text": [
      "  1%|██▍                                                                                                                                                                                                                                       | 1051/100000 [17:39<28:29:18,  1.04s/it]"
     ]
    },
    {
     "name": "stdout",
     "output_type": "stream",
     "text": [
      "loss:  tensor(24759.8519, device='cuda:0', grad_fn=<AddBackward0>)\n"
     ]
    },
    {
     "name": "stderr",
     "output_type": "stream",
     "text": [
      "  1%|██▍                                                                                                                                                                                                                                       | 1061/100000 [17:49<27:58:05,  1.02s/it]"
     ]
    },
    {
     "name": "stdout",
     "output_type": "stream",
     "text": [
      "loss:  tensor(24774.0686, device='cuda:0', grad_fn=<AddBackward0>)\n"
     ]
    },
    {
     "name": "stderr",
     "output_type": "stream",
     "text": [
      "  1%|██▌                                                                                                                                                                                                                                       | 1071/100000 [17:59<28:06:27,  1.02s/it]"
     ]
    },
    {
     "name": "stdout",
     "output_type": "stream",
     "text": [
      "loss:  tensor(24702.8194, device='cuda:0', grad_fn=<AddBackward0>)\n"
     ]
    },
    {
     "name": "stderr",
     "output_type": "stream",
     "text": [
      "  1%|██▌                                                                                                                                                                                                                                       | 1081/100000 [18:09<28:07:05,  1.02s/it]"
     ]
    },
    {
     "name": "stdout",
     "output_type": "stream",
     "text": [
      "loss:  tensor(24500.9093, device='cuda:0', grad_fn=<AddBackward0>)\n"
     ]
    },
    {
     "name": "stderr",
     "output_type": "stream",
     "text": [
      "  1%|██▌                                                                                                                                                                                                                                       | 1091/100000 [18:19<28:32:21,  1.04s/it]"
     ]
    },
    {
     "name": "stdout",
     "output_type": "stream",
     "text": [
      "loss:  tensor(24454.9856, device='cuda:0', grad_fn=<AddBackward0>)\n"
     ]
    },
    {
     "name": "stderr",
     "output_type": "stream",
     "text": [
      "  1%|██▌                                                                                                                                                                                                                                       | 1101/100000 [18:29<28:07:32,  1.02s/it]"
     ]
    },
    {
     "name": "stdout",
     "output_type": "stream",
     "text": [
      "loss:  tensor(24545.4532, device='cuda:0', grad_fn=<AddBackward0>)\n"
     ]
    },
    {
     "name": "stderr",
     "output_type": "stream",
     "text": [
      "  1%|██▌                                                                                                                                                                                                                                       | 1111/100000 [18:39<27:52:32,  1.01s/it]"
     ]
    },
    {
     "name": "stdout",
     "output_type": "stream",
     "text": [
      "loss:  tensor(24282.9835, device='cuda:0', grad_fn=<AddBackward0>)\n"
     ]
    },
    {
     "name": "stderr",
     "output_type": "stream",
     "text": [
      "  1%|██▌                                                                                                                                                                                                                                       | 1121/100000 [18:49<27:42:05,  1.01s/it]"
     ]
    },
    {
     "name": "stdout",
     "output_type": "stream",
     "text": [
      "loss:  tensor(24341.6766, device='cuda:0', grad_fn=<AddBackward0>)\n"
     ]
    },
    {
     "name": "stderr",
     "output_type": "stream",
     "text": [
      "  1%|██▋                                                                                                                                                                                                                                       | 1131/100000 [18:59<28:05:13,  1.02s/it]"
     ]
    },
    {
     "name": "stdout",
     "output_type": "stream",
     "text": [
      "loss:  tensor(24112.6652, device='cuda:0', grad_fn=<AddBackward0>)\n"
     ]
    },
    {
     "name": "stderr",
     "output_type": "stream",
     "text": [
      "  1%|██▋                                                                                                                                                                                                                                       | 1141/100000 [19:09<28:11:27,  1.03s/it]"
     ]
    },
    {
     "name": "stdout",
     "output_type": "stream",
     "text": [
      "loss:  tensor(24120.2772, device='cuda:0', grad_fn=<AddBackward0>)\n"
     ]
    },
    {
     "name": "stderr",
     "output_type": "stream",
     "text": [
      "  1%|██▋                                                                                                                                                                                                                                       | 1151/100000 [19:19<28:06:32,  1.02s/it]"
     ]
    },
    {
     "name": "stdout",
     "output_type": "stream",
     "text": [
      "loss:  tensor(23934.0648, device='cuda:0', grad_fn=<AddBackward0>)\n"
     ]
    },
    {
     "name": "stderr",
     "output_type": "stream",
     "text": [
      "  1%|██▋                                                                                                                                                                                                                                       | 1161/100000 [19:30<27:58:26,  1.02s/it]"
     ]
    },
    {
     "name": "stdout",
     "output_type": "stream",
     "text": [
      "loss:  tensor(23953.1946, device='cuda:0', grad_fn=<AddBackward0>)\n"
     ]
    },
    {
     "name": "stderr",
     "output_type": "stream",
     "text": [
      "  1%|██▋                                                                                                                                                                                                                                       | 1171/100000 [19:40<28:09:22,  1.03s/it]"
     ]
    },
    {
     "name": "stdout",
     "output_type": "stream",
     "text": [
      "loss:  tensor(23874.8878, device='cuda:0', grad_fn=<AddBackward0>)\n"
     ]
    },
    {
     "name": "stderr",
     "output_type": "stream",
     "text": [
      "  1%|██▊                                                                                                                                                                                                                                       | 1181/100000 [19:50<27:45:34,  1.01s/it]"
     ]
    },
    {
     "name": "stdout",
     "output_type": "stream",
     "text": [
      "loss:  tensor(23876.9399, device='cuda:0', grad_fn=<AddBackward0>)\n"
     ]
    },
    {
     "name": "stderr",
     "output_type": "stream",
     "text": [
      "  1%|██▊                                                                                                                                                                                                                                       | 1191/100000 [20:00<28:53:01,  1.05s/it]"
     ]
    },
    {
     "name": "stdout",
     "output_type": "stream",
     "text": [
      "loss:  tensor(23779.1257, device='cuda:0', grad_fn=<AddBackward0>)\n"
     ]
    },
    {
     "name": "stderr",
     "output_type": "stream",
     "text": [
      "  1%|██▊                                                                                                                                                                                                                                       | 1201/100000 [20:10<28:05:11,  1.02s/it]"
     ]
    },
    {
     "name": "stdout",
     "output_type": "stream",
     "text": [
      "loss:  tensor(23688.1351, device='cuda:0', grad_fn=<AddBackward0>)\n"
     ]
    },
    {
     "name": "stderr",
     "output_type": "stream",
     "text": [
      "  1%|██▊                                                                                                                                                                                                                                       | 1211/100000 [20:20<28:25:28,  1.04s/it]"
     ]
    },
    {
     "name": "stdout",
     "output_type": "stream",
     "text": [
      "loss:  tensor(23744.2994, device='cuda:0', grad_fn=<AddBackward0>)\n"
     ]
    },
    {
     "name": "stderr",
     "output_type": "stream",
     "text": [
      "  1%|██▊                                                                                                                                                                                                                                       | 1221/100000 [20:30<27:55:30,  1.02s/it]"
     ]
    },
    {
     "name": "stdout",
     "output_type": "stream",
     "text": [
      "loss:  tensor(23584.8024, device='cuda:0', grad_fn=<AddBackward0>)\n"
     ]
    },
    {
     "name": "stderr",
     "output_type": "stream",
     "text": [
      "  1%|██▉                                                                                                                                                                                                                                       | 1231/100000 [20:40<27:53:38,  1.02s/it]"
     ]
    },
    {
     "name": "stdout",
     "output_type": "stream",
     "text": [
      "loss:  tensor(23569.6934, device='cuda:0', grad_fn=<AddBackward0>)\n"
     ]
    },
    {
     "name": "stderr",
     "output_type": "stream",
     "text": [
      "  1%|██▉                                                                                                                                                                                                                                       | 1241/100000 [20:50<28:06:29,  1.02s/it]"
     ]
    },
    {
     "name": "stdout",
     "output_type": "stream",
     "text": [
      "loss:  tensor(23494.3297, device='cuda:0', grad_fn=<AddBackward0>)\n"
     ]
    },
    {
     "name": "stderr",
     "output_type": "stream",
     "text": [
      "  1%|██▉                                                                                                                                                                                                                                       | 1251/100000 [21:00<28:01:08,  1.02s/it]"
     ]
    },
    {
     "name": "stdout",
     "output_type": "stream",
     "text": [
      "loss:  tensor(23455.1453, device='cuda:0', grad_fn=<AddBackward0>)\n"
     ]
    },
    {
     "name": "stderr",
     "output_type": "stream",
     "text": [
      "  1%|██▉                                                                                                                                                                                                                                       | 1261/100000 [21:10<28:10:13,  1.03s/it]"
     ]
    },
    {
     "name": "stdout",
     "output_type": "stream",
     "text": [
      "loss:  tensor(23396.5816, device='cuda:0', grad_fn=<AddBackward0>)\n"
     ]
    },
    {
     "name": "stderr",
     "output_type": "stream",
     "text": [
      "  1%|██▉                                                                                                                                                                                                                                       | 1271/100000 [21:20<27:43:28,  1.01s/it]"
     ]
    },
    {
     "name": "stdout",
     "output_type": "stream",
     "text": [
      "loss:  tensor(23367.0409, device='cuda:0', grad_fn=<AddBackward0>)\n"
     ]
    },
    {
     "name": "stderr",
     "output_type": "stream",
     "text": [
      "  1%|██▉                                                                                                                                                                                                                                       | 1281/100000 [21:30<27:53:35,  1.02s/it]"
     ]
    },
    {
     "name": "stdout",
     "output_type": "stream",
     "text": [
      "loss:  tensor(23315.5931, device='cuda:0', grad_fn=<AddBackward0>)\n"
     ]
    },
    {
     "name": "stderr",
     "output_type": "stream",
     "text": [
      "  1%|███                                                                                                                                                                                                                                       | 1291/100000 [21:40<27:44:23,  1.01s/it]"
     ]
    },
    {
     "name": "stdout",
     "output_type": "stream",
     "text": [
      "loss:  tensor(23284.4012, device='cuda:0', grad_fn=<AddBackward0>)\n"
     ]
    },
    {
     "name": "stderr",
     "output_type": "stream",
     "text": [
      "  1%|███                                                                                                                                                                                                                                       | 1301/100000 [21:51<28:27:42,  1.04s/it]"
     ]
    },
    {
     "name": "stdout",
     "output_type": "stream",
     "text": [
      "loss:  tensor(23173.8647, device='cuda:0', grad_fn=<AddBackward0>)\n"
     ]
    },
    {
     "name": "stderr",
     "output_type": "stream",
     "text": [
      "  1%|███                                                                                                                                                                                                                                       | 1311/100000 [22:01<28:36:58,  1.04s/it]"
     ]
    },
    {
     "name": "stdout",
     "output_type": "stream",
     "text": [
      "loss:  tensor(23167.7093, device='cuda:0', grad_fn=<AddBackward0>)\n"
     ]
    },
    {
     "name": "stderr",
     "output_type": "stream",
     "text": [
      "  1%|███                                                                                                                                                                                                                                       | 1321/100000 [22:11<28:05:05,  1.02s/it]"
     ]
    },
    {
     "name": "stdout",
     "output_type": "stream",
     "text": [
      "loss:  tensor(23125.7184, device='cuda:0', grad_fn=<AddBackward0>)\n"
     ]
    },
    {
     "name": "stderr",
     "output_type": "stream",
     "text": [
      "  1%|███                                                                                                                                                                                                                                       | 1331/100000 [22:21<28:08:55,  1.03s/it]"
     ]
    },
    {
     "name": "stdout",
     "output_type": "stream",
     "text": [
      "loss:  tensor(23061.4392, device='cuda:0', grad_fn=<AddBackward0>)\n"
     ]
    },
    {
     "name": "stderr",
     "output_type": "stream",
     "text": [
      "  1%|███▏                                                                                                                                                                                                                                      | 1341/100000 [22:31<28:12:12,  1.03s/it]"
     ]
    },
    {
     "name": "stdout",
     "output_type": "stream",
     "text": [
      "loss:  tensor(22918.7469, device='cuda:0', grad_fn=<AddBackward0>)\n"
     ]
    },
    {
     "name": "stderr",
     "output_type": "stream",
     "text": [
      "  1%|███▏                                                                                                                                                                                                                                      | 1351/100000 [22:41<27:41:21,  1.01s/it]"
     ]
    },
    {
     "name": "stdout",
     "output_type": "stream",
     "text": [
      "loss:  tensor(22881.1239, device='cuda:0', grad_fn=<AddBackward0>)\n"
     ]
    },
    {
     "name": "stderr",
     "output_type": "stream",
     "text": [
      "  1%|███▏                                                                                                                                                                                                                                      | 1361/100000 [22:51<28:01:27,  1.02s/it]"
     ]
    },
    {
     "name": "stdout",
     "output_type": "stream",
     "text": [
      "loss:  tensor(22853.6021, device='cuda:0', grad_fn=<AddBackward0>)\n"
     ]
    },
    {
     "name": "stderr",
     "output_type": "stream",
     "text": [
      "  1%|███▏                                                                                                                                                                                                                                      | 1371/100000 [23:01<28:08:46,  1.03s/it]"
     ]
    },
    {
     "name": "stdout",
     "output_type": "stream",
     "text": [
      "loss:  tensor(22993.2898, device='cuda:0', grad_fn=<AddBackward0>)\n"
     ]
    },
    {
     "name": "stderr",
     "output_type": "stream",
     "text": [
      "  1%|███▏                                                                                                                                                                                                                                      | 1381/100000 [23:12<27:58:34,  1.02s/it]"
     ]
    },
    {
     "name": "stdout",
     "output_type": "stream",
     "text": [
      "loss:  tensor(22927.7079, device='cuda:0', grad_fn=<AddBackward0>)\n"
     ]
    },
    {
     "name": "stderr",
     "output_type": "stream",
     "text": [
      "  1%|███▎                                                                                                                                                                                                                                      | 1391/100000 [23:22<28:09:38,  1.03s/it]"
     ]
    },
    {
     "name": "stdout",
     "output_type": "stream",
     "text": [
      "loss:  tensor(22652.3634, device='cuda:0', grad_fn=<AddBackward0>)\n"
     ]
    },
    {
     "name": "stderr",
     "output_type": "stream",
     "text": [
      "  1%|███▎                                                                                                                                                                                                                                      | 1401/100000 [23:32<28:07:22,  1.03s/it]"
     ]
    },
    {
     "name": "stdout",
     "output_type": "stream",
     "text": [
      "loss:  tensor(22598.5859, device='cuda:0', grad_fn=<AddBackward0>)\n"
     ]
    },
    {
     "name": "stderr",
     "output_type": "stream",
     "text": [
      "  1%|███▎                                                                                                                                                                                                                                      | 1411/100000 [23:42<28:16:00,  1.03s/it]"
     ]
    },
    {
     "name": "stdout",
     "output_type": "stream",
     "text": [
      "loss:  tensor(22598.5047, device='cuda:0', grad_fn=<AddBackward0>)\n"
     ]
    },
    {
     "name": "stderr",
     "output_type": "stream",
     "text": [
      "  1%|███▎                                                                                                                                                                                                                                      | 1421/100000 [23:52<28:01:55,  1.02s/it]"
     ]
    },
    {
     "name": "stdout",
     "output_type": "stream",
     "text": [
      "loss:  tensor(22518.5462, device='cuda:0', grad_fn=<AddBackward0>)\n"
     ]
    },
    {
     "name": "stderr",
     "output_type": "stream",
     "text": [
      "  1%|███▎                                                                                                                                                                                                                                      | 1431/100000 [24:02<28:35:55,  1.04s/it]"
     ]
    },
    {
     "name": "stdout",
     "output_type": "stream",
     "text": [
      "loss:  tensor(22608.2880, device='cuda:0', grad_fn=<AddBackward0>)\n"
     ]
    },
    {
     "name": "stderr",
     "output_type": "stream",
     "text": [
      "  1%|███▎                                                                                                                                                                                                                                      | 1441/100000 [24:12<27:49:54,  1.02s/it]"
     ]
    },
    {
     "name": "stdout",
     "output_type": "stream",
     "text": [
      "loss:  tensor(22482.4117, device='cuda:0', grad_fn=<AddBackward0>)\n"
     ]
    },
    {
     "name": "stderr",
     "output_type": "stream",
     "text": [
      "  1%|███▍                                                                                                                                                                                                                                      | 1451/100000 [24:22<28:05:50,  1.03s/it]"
     ]
    },
    {
     "name": "stdout",
     "output_type": "stream",
     "text": [
      "loss:  tensor(22516.0610, device='cuda:0', grad_fn=<AddBackward0>)\n"
     ]
    },
    {
     "name": "stderr",
     "output_type": "stream",
     "text": [
      "  1%|███▍                                                                                                                                                                                                                                      | 1461/100000 [24:32<27:46:20,  1.01s/it]"
     ]
    },
    {
     "name": "stdout",
     "output_type": "stream",
     "text": [
      "loss:  tensor(22370.6578, device='cuda:0', grad_fn=<AddBackward0>)\n"
     ]
    },
    {
     "name": "stderr",
     "output_type": "stream",
     "text": [
      "  1%|███▍                                                                                                                                                                                                                                      | 1471/100000 [24:42<27:52:33,  1.02s/it]"
     ]
    },
    {
     "name": "stdout",
     "output_type": "stream",
     "text": [
      "loss:  tensor(22421.6632, device='cuda:0', grad_fn=<AddBackward0>)\n"
     ]
    },
    {
     "name": "stderr",
     "output_type": "stream",
     "text": [
      "  1%|███▍                                                                                                                                                                                                                                      | 1481/100000 [24:52<27:39:40,  1.01s/it]"
     ]
    },
    {
     "name": "stdout",
     "output_type": "stream",
     "text": [
      "loss:  tensor(22206.0667, device='cuda:0', grad_fn=<AddBackward0>)\n"
     ]
    },
    {
     "name": "stderr",
     "output_type": "stream",
     "text": [
      "  1%|███▍                                                                                                                                                                                                                                      | 1491/100000 [25:02<28:08:42,  1.03s/it]"
     ]
    },
    {
     "name": "stdout",
     "output_type": "stream",
     "text": [
      "loss:  tensor(22365.8886, device='cuda:0', grad_fn=<AddBackward0>)\n"
     ]
    },
    {
     "name": "stderr",
     "output_type": "stream",
     "text": [
      "  2%|███▌                                                                                                                                                                                                                                      | 1501/100000 [25:12<27:45:50,  1.01s/it]"
     ]
    },
    {
     "name": "stdout",
     "output_type": "stream",
     "text": [
      "loss:  tensor(22210.3682, device='cuda:0', grad_fn=<AddBackward0>)\n"
     ]
    },
    {
     "name": "stderr",
     "output_type": "stream",
     "text": [
      "  2%|███▌                                                                                                                                                                                                                                      | 1511/100000 [25:22<28:22:14,  1.04s/it]"
     ]
    },
    {
     "name": "stdout",
     "output_type": "stream",
     "text": [
      "loss:  tensor(22186.8910, device='cuda:0', grad_fn=<AddBackward0>)\n"
     ]
    },
    {
     "name": "stderr",
     "output_type": "stream",
     "text": [
      "  2%|███▌                                                                                                                                                                                                                                      | 1521/100000 [25:32<28:01:23,  1.02s/it]"
     ]
    },
    {
     "name": "stdout",
     "output_type": "stream",
     "text": [
      "loss:  tensor(22020.6593, device='cuda:0', grad_fn=<AddBackward0>)\n"
     ]
    },
    {
     "name": "stderr",
     "output_type": "stream",
     "text": [
      "  2%|███▌                                                                                                                                                                                                                                      | 1531/100000 [25:42<27:52:35,  1.02s/it]"
     ]
    },
    {
     "name": "stdout",
     "output_type": "stream",
     "text": [
      "loss:  tensor(22137.6894, device='cuda:0', grad_fn=<AddBackward0>)\n"
     ]
    },
    {
     "name": "stderr",
     "output_type": "stream",
     "text": [
      "  2%|███▌                                                                                                                                                                                                                                      | 1541/100000 [25:53<28:05:21,  1.03s/it]"
     ]
    },
    {
     "name": "stdout",
     "output_type": "stream",
     "text": [
      "loss:  tensor(21888.6317, device='cuda:0', grad_fn=<AddBackward0>)\n"
     ]
    },
    {
     "name": "stderr",
     "output_type": "stream",
     "text": [
      "  2%|███▋                                                                                                                                                                                                                                      | 1551/100000 [26:03<28:38:14,  1.05s/it]"
     ]
    },
    {
     "name": "stdout",
     "output_type": "stream",
     "text": [
      "loss:  tensor(21949.6389, device='cuda:0', grad_fn=<AddBackward0>)\n"
     ]
    },
    {
     "name": "stderr",
     "output_type": "stream",
     "text": [
      "  2%|███▋                                                                                                                                                                                                                                      | 1561/100000 [26:13<27:57:05,  1.02s/it]"
     ]
    },
    {
     "name": "stdout",
     "output_type": "stream",
     "text": [
      "loss:  tensor(21852.1487, device='cuda:0', grad_fn=<AddBackward0>)\n"
     ]
    },
    {
     "name": "stderr",
     "output_type": "stream",
     "text": [
      "  2%|███▋                                                                                                                                                                                                                                      | 1571/100000 [26:23<27:52:39,  1.02s/it]"
     ]
    },
    {
     "name": "stdout",
     "output_type": "stream",
     "text": [
      "loss:  tensor(21910.6265, device='cuda:0', grad_fn=<AddBackward0>)\n"
     ]
    },
    {
     "name": "stderr",
     "output_type": "stream",
     "text": [
      "  2%|███▋                                                                                                                                                                                                                                      | 1581/100000 [26:33<27:57:10,  1.02s/it]"
     ]
    },
    {
     "name": "stdout",
     "output_type": "stream",
     "text": [
      "loss:  tensor(21737.6113, device='cuda:0', grad_fn=<AddBackward0>)\n"
     ]
    },
    {
     "name": "stderr",
     "output_type": "stream",
     "text": [
      "  2%|███▋                                                                                                                                                                                                                                      | 1591/100000 [26:43<28:02:56,  1.03s/it]"
     ]
    },
    {
     "name": "stdout",
     "output_type": "stream",
     "text": [
      "loss:  tensor(21685.8152, device='cuda:0', grad_fn=<AddBackward0>)\n"
     ]
    },
    {
     "name": "stderr",
     "output_type": "stream",
     "text": [
      "  2%|███▋                                                                                                                                                                                                                                      | 1601/100000 [26:53<27:52:44,  1.02s/it]"
     ]
    },
    {
     "name": "stdout",
     "output_type": "stream",
     "text": [
      "loss:  tensor(21702.8565, device='cuda:0', grad_fn=<AddBackward0>)\n"
     ]
    },
    {
     "name": "stderr",
     "output_type": "stream",
     "text": [
      "  2%|███▊                                                                                                                                                                                                                                      | 1611/100000 [27:03<28:01:17,  1.03s/it]"
     ]
    },
    {
     "name": "stdout",
     "output_type": "stream",
     "text": [
      "loss:  tensor(21705.4594, device='cuda:0', grad_fn=<AddBackward0>)\n"
     ]
    },
    {
     "name": "stderr",
     "output_type": "stream",
     "text": [
      "  2%|███▊                                                                                                                                                                                                                                      | 1621/100000 [27:13<27:57:19,  1.02s/it]"
     ]
    },
    {
     "name": "stdout",
     "output_type": "stream",
     "text": [
      "loss:  tensor(21735.5466, device='cuda:0', grad_fn=<AddBackward0>)\n"
     ]
    },
    {
     "name": "stderr",
     "output_type": "stream",
     "text": [
      "  2%|███▊                                                                                                                                                                                                                                      | 1631/100000 [27:23<27:32:52,  1.01s/it]"
     ]
    },
    {
     "name": "stdout",
     "output_type": "stream",
     "text": [
      "loss:  tensor(21582.1053, device='cuda:0', grad_fn=<AddBackward0>)\n"
     ]
    },
    {
     "name": "stderr",
     "output_type": "stream",
     "text": [
      "  2%|███▊                                                                                                                                                                                                                                      | 1641/100000 [27:33<28:02:09,  1.03s/it]"
     ]
    },
    {
     "name": "stdout",
     "output_type": "stream",
     "text": [
      "loss:  tensor(21692.1616, device='cuda:0', grad_fn=<AddBackward0>)\n"
     ]
    },
    {
     "name": "stderr",
     "output_type": "stream",
     "text": [
      "  2%|███▊                                                                                                                                                                                                                                      | 1651/100000 [27:43<27:33:15,  1.01s/it]"
     ]
    },
    {
     "name": "stdout",
     "output_type": "stream",
     "text": [
      "loss:  tensor(21663.0921, device='cuda:0', grad_fn=<AddBackward0>)\n"
     ]
    },
    {
     "name": "stderr",
     "output_type": "stream",
     "text": [
      "  2%|███▉                                                                                                                                                                                                                                      | 1661/100000 [27:53<27:30:07,  1.01s/it]"
     ]
    },
    {
     "name": "stdout",
     "output_type": "stream",
     "text": [
      "loss:  tensor(21605.6801, device='cuda:0', grad_fn=<AddBackward0>)\n"
     ]
    },
    {
     "name": "stderr",
     "output_type": "stream",
     "text": [
      "  2%|███▉                                                                                                                                                                                                                                      | 1671/100000 [28:03<28:22:22,  1.04s/it]"
     ]
    },
    {
     "name": "stdout",
     "output_type": "stream",
     "text": [
      "loss:  tensor(21468.8777, device='cuda:0', grad_fn=<AddBackward0>)\n"
     ]
    },
    {
     "name": "stderr",
     "output_type": "stream",
     "text": [
      "  2%|███▉                                                                                                                                                                                                                                      | 1681/100000 [28:13<28:05:52,  1.03s/it]"
     ]
    },
    {
     "name": "stdout",
     "output_type": "stream",
     "text": [
      "loss:  tensor(21339.8102, device='cuda:0', grad_fn=<AddBackward0>)\n"
     ]
    },
    {
     "name": "stderr",
     "output_type": "stream",
     "text": [
      "  2%|███▉                                                                                                                                                                                                                                      | 1691/100000 [28:23<27:52:52,  1.02s/it]"
     ]
    },
    {
     "name": "stdout",
     "output_type": "stream",
     "text": [
      "loss:  tensor(21314.5699, device='cuda:0', grad_fn=<AddBackward0>)\n"
     ]
    },
    {
     "name": "stderr",
     "output_type": "stream",
     "text": [
      "  2%|███▉                                                                                                                                                                                                                                      | 1701/100000 [28:33<28:08:48,  1.03s/it]"
     ]
    },
    {
     "name": "stdout",
     "output_type": "stream",
     "text": [
      "loss:  tensor(21194.2101, device='cuda:0', grad_fn=<AddBackward0>)\n"
     ]
    },
    {
     "name": "stderr",
     "output_type": "stream",
     "text": [
      "  2%|████                                                                                                                                                                                                                                      | 1711/100000 [28:43<27:44:44,  1.02s/it]"
     ]
    },
    {
     "name": "stdout",
     "output_type": "stream",
     "text": [
      "loss:  tensor(21118.7943, device='cuda:0', grad_fn=<AddBackward0>)\n"
     ]
    },
    {
     "name": "stderr",
     "output_type": "stream",
     "text": [
      "  2%|████                                                                                                                                                                                                                                      | 1721/100000 [28:53<27:54:36,  1.02s/it]"
     ]
    },
    {
     "name": "stdout",
     "output_type": "stream",
     "text": [
      "loss:  tensor(21017.2646, device='cuda:0', grad_fn=<AddBackward0>)\n"
     ]
    },
    {
     "name": "stderr",
     "output_type": "stream",
     "text": [
      "  2%|████                                                                                                                                                                                                                                      | 1731/100000 [29:03<27:37:04,  1.01s/it]"
     ]
    },
    {
     "name": "stdout",
     "output_type": "stream",
     "text": [
      "loss:  tensor(20936.6246, device='cuda:0', grad_fn=<AddBackward0>)\n"
     ]
    },
    {
     "name": "stderr",
     "output_type": "stream",
     "text": [
      "  2%|████                                                                                                                                                                                                                                      | 1741/100000 [29:13<27:52:30,  1.02s/it]"
     ]
    },
    {
     "name": "stdout",
     "output_type": "stream",
     "text": [
      "loss:  tensor(20751.0642, device='cuda:0', grad_fn=<AddBackward0>)\n"
     ]
    },
    {
     "name": "stderr",
     "output_type": "stream",
     "text": [
      "  2%|████                                                                                                                                                                                                                                      | 1751/100000 [29:23<27:36:19,  1.01s/it]"
     ]
    },
    {
     "name": "stdout",
     "output_type": "stream",
     "text": [
      "loss:  tensor(20675.2846, device='cuda:0', grad_fn=<AddBackward0>)\n"
     ]
    },
    {
     "name": "stderr",
     "output_type": "stream",
     "text": [
      "  2%|████                                                                                                                                                                                                                                      | 1761/100000 [29:33<27:47:11,  1.02s/it]"
     ]
    },
    {
     "name": "stdout",
     "output_type": "stream",
     "text": [
      "loss:  tensor(20314.5411, device='cuda:0', grad_fn=<AddBackward0>)\n"
     ]
    },
    {
     "name": "stderr",
     "output_type": "stream",
     "text": [
      "  2%|████▏                                                                                                                                                                                                                                     | 1771/100000 [29:43<27:49:18,  1.02s/it]"
     ]
    },
    {
     "name": "stdout",
     "output_type": "stream",
     "text": [
      "loss:  tensor(20202.9265, device='cuda:0', grad_fn=<AddBackward0>)\n"
     ]
    },
    {
     "name": "stderr",
     "output_type": "stream",
     "text": [
      "  2%|████▏                                                                                                                                                                                                                                     | 1781/100000 [29:53<27:46:55,  1.02s/it]"
     ]
    },
    {
     "name": "stdout",
     "output_type": "stream",
     "text": [
      "loss:  tensor(19987.4713, device='cuda:0', grad_fn=<AddBackward0>)\n"
     ]
    },
    {
     "name": "stderr",
     "output_type": "stream",
     "text": [
      "  2%|████▏                                                                                                                                                                                                                                     | 1791/100000 [30:03<28:19:07,  1.04s/it]"
     ]
    },
    {
     "name": "stdout",
     "output_type": "stream",
     "text": [
      "loss:  tensor(19931.2376, device='cuda:0', grad_fn=<AddBackward0>)\n"
     ]
    },
    {
     "name": "stderr",
     "output_type": "stream",
     "text": [
      "  2%|████▏                                                                                                                                                                                                                                     | 1801/100000 [30:13<27:35:22,  1.01s/it]"
     ]
    },
    {
     "name": "stdout",
     "output_type": "stream",
     "text": [
      "loss:  tensor(19652.4340, device='cuda:0', grad_fn=<AddBackward0>)\n"
     ]
    },
    {
     "name": "stderr",
     "output_type": "stream",
     "text": [
      "  2%|████▏                                                                                                                                                                                                                                     | 1811/100000 [30:24<27:45:16,  1.02s/it]"
     ]
    },
    {
     "name": "stdout",
     "output_type": "stream",
     "text": [
      "loss:  tensor(19550.1011, device='cuda:0', grad_fn=<AddBackward0>)\n"
     ]
    },
    {
     "name": "stderr",
     "output_type": "stream",
     "text": [
      "  2%|████▎                                                                                                                                                                                                                                     | 1821/100000 [30:33<27:27:03,  1.01s/it]"
     ]
    },
    {
     "name": "stdout",
     "output_type": "stream",
     "text": [
      "loss:  tensor(19545.1976, device='cuda:0', grad_fn=<AddBackward0>)\n"
     ]
    },
    {
     "name": "stderr",
     "output_type": "stream",
     "text": [
      "  2%|████▎                                                                                                                                                                                                                                     | 1831/100000 [30:43<27:53:39,  1.02s/it]"
     ]
    },
    {
     "name": "stdout",
     "output_type": "stream",
     "text": [
      "loss:  tensor(19369.0347, device='cuda:0', grad_fn=<AddBackward0>)\n"
     ]
    },
    {
     "name": "stderr",
     "output_type": "stream",
     "text": [
      "  2%|████▎                                                                                                                                                                                                                                     | 1841/100000 [30:53<27:33:37,  1.01s/it]"
     ]
    },
    {
     "name": "stdout",
     "output_type": "stream",
     "text": [
      "loss:  tensor(19244.1822, device='cuda:0', grad_fn=<AddBackward0>)\n"
     ]
    },
    {
     "name": "stderr",
     "output_type": "stream",
     "text": [
      "  2%|████▎                                                                                                                                                                                                                                     | 1851/100000 [31:04<27:55:59,  1.02s/it]"
     ]
    },
    {
     "name": "stdout",
     "output_type": "stream",
     "text": [
      "loss:  tensor(19283.3391, device='cuda:0', grad_fn=<AddBackward0>)\n"
     ]
    },
    {
     "name": "stderr",
     "output_type": "stream",
     "text": [
      "  2%|████▎                                                                                                                                                                                                                                     | 1861/100000 [31:14<27:50:59,  1.02s/it]"
     ]
    },
    {
     "name": "stdout",
     "output_type": "stream",
     "text": [
      "loss:  tensor(19177.1995, device='cuda:0', grad_fn=<AddBackward0>)\n"
     ]
    },
    {
     "name": "stderr",
     "output_type": "stream",
     "text": [
      "  2%|████▍                                                                                                                                                                                                                                     | 1871/100000 [31:24<27:34:43,  1.01s/it]"
     ]
    },
    {
     "name": "stdout",
     "output_type": "stream",
     "text": [
      "loss:  tensor(18924.8787, device='cuda:0', grad_fn=<AddBackward0>)\n"
     ]
    },
    {
     "name": "stderr",
     "output_type": "stream",
     "text": [
      "  2%|████▍                                                                                                                                                                                                                                     | 1881/100000 [31:34<27:53:04,  1.02s/it]"
     ]
    },
    {
     "name": "stdout",
     "output_type": "stream",
     "text": [
      "loss:  tensor(18716.0250, device='cuda:0', grad_fn=<AddBackward0>)\n"
     ]
    },
    {
     "name": "stderr",
     "output_type": "stream",
     "text": [
      "  2%|████▍                                                                                                                                                                                                                                     | 1891/100000 [31:44<27:45:22,  1.02s/it]"
     ]
    },
    {
     "name": "stdout",
     "output_type": "stream",
     "text": [
      "loss:  tensor(18380.4804, device='cuda:0', grad_fn=<AddBackward0>)\n"
     ]
    },
    {
     "name": "stderr",
     "output_type": "stream",
     "text": [
      "  2%|████▍                                                                                                                                                                                                                                     | 1901/100000 [31:54<27:59:11,  1.03s/it]"
     ]
    },
    {
     "name": "stdout",
     "output_type": "stream",
     "text": [
      "loss:  tensor(18141.2082, device='cuda:0', grad_fn=<AddBackward0>)\n"
     ]
    },
    {
     "name": "stderr",
     "output_type": "stream",
     "text": [
      "  2%|████▍                                                                                                                                                                                                                                     | 1911/100000 [32:04<28:47:09,  1.06s/it]"
     ]
    },
    {
     "name": "stdout",
     "output_type": "stream",
     "text": [
      "loss:  tensor(17878.4162, device='cuda:0', grad_fn=<AddBackward0>)\n"
     ]
    },
    {
     "name": "stderr",
     "output_type": "stream",
     "text": [
      "  2%|████▍                                                                                                                                                                                                                                     | 1921/100000 [32:14<28:01:31,  1.03s/it]"
     ]
    },
    {
     "name": "stdout",
     "output_type": "stream",
     "text": [
      "loss:  tensor(17775.4284, device='cuda:0', grad_fn=<AddBackward0>)\n"
     ]
    },
    {
     "name": "stderr",
     "output_type": "stream",
     "text": [
      "  2%|████▌                                                                                                                                                                                                                                     | 1931/100000 [32:24<28:11:29,  1.03s/it]"
     ]
    },
    {
     "name": "stdout",
     "output_type": "stream",
     "text": [
      "loss:  tensor(17732.1855, device='cuda:0', grad_fn=<AddBackward0>)\n"
     ]
    },
    {
     "name": "stderr",
     "output_type": "stream",
     "text": [
      "  2%|████▌                                                                                                                                                                                                                                     | 1941/100000 [32:35<27:39:09,  1.02s/it]"
     ]
    },
    {
     "name": "stdout",
     "output_type": "stream",
     "text": [
      "loss:  tensor(17581.1645, device='cuda:0', grad_fn=<AddBackward0>)\n"
     ]
    },
    {
     "name": "stderr",
     "output_type": "stream",
     "text": [
      "  2%|████▌                                                                                                                                                                                                                                     | 1951/100000 [32:45<28:03:55,  1.03s/it]"
     ]
    },
    {
     "name": "stdout",
     "output_type": "stream",
     "text": [
      "loss:  tensor(17319.3246, device='cuda:0', grad_fn=<AddBackward0>)\n"
     ]
    },
    {
     "name": "stderr",
     "output_type": "stream",
     "text": [
      "  2%|████▌                                                                                                                                                                                                                                     | 1961/100000 [32:55<27:52:11,  1.02s/it]"
     ]
    },
    {
     "name": "stdout",
     "output_type": "stream",
     "text": [
      "loss:  tensor(17324.6347, device='cuda:0', grad_fn=<AddBackward0>)\n"
     ]
    },
    {
     "name": "stderr",
     "output_type": "stream",
     "text": [
      "  2%|████▌                                                                                                                                                                                                                                     | 1971/100000 [33:05<27:45:23,  1.02s/it]"
     ]
    },
    {
     "name": "stdout",
     "output_type": "stream",
     "text": [
      "loss:  tensor(17034.4590, device='cuda:0', grad_fn=<AddBackward0>)\n"
     ]
    },
    {
     "name": "stderr",
     "output_type": "stream",
     "text": [
      "  2%|████▋                                                                                                                                                                                                                                     | 1981/100000 [33:15<28:04:26,  1.03s/it]"
     ]
    },
    {
     "name": "stdout",
     "output_type": "stream",
     "text": [
      "loss:  tensor(16814.0659, device='cuda:0', grad_fn=<AddBackward0>)\n"
     ]
    },
    {
     "name": "stderr",
     "output_type": "stream",
     "text": [
      "  2%|████▋                                                                                                                                                                                                                                     | 1991/100000 [33:25<28:10:04,  1.03s/it]"
     ]
    },
    {
     "name": "stdout",
     "output_type": "stream",
     "text": [
      "loss:  tensor(16526.2112, device='cuda:0', grad_fn=<AddBackward0>)\n"
     ]
    },
    {
     "name": "stderr",
     "output_type": "stream",
     "text": [
      "  2%|████▋                                                                                                                                                                                                                                     | 2001/100000 [33:35<28:00:44,  1.03s/it]"
     ]
    },
    {
     "name": "stdout",
     "output_type": "stream",
     "text": [
      "loss:  tensor(16433.9009, device='cuda:0', grad_fn=<AddBackward0>)\n"
     ]
    },
    {
     "name": "stderr",
     "output_type": "stream",
     "text": [
      "  2%|████▋                                                                                                                                                                                                                                     | 2011/100000 [33:45<27:42:04,  1.02s/it]"
     ]
    },
    {
     "name": "stdout",
     "output_type": "stream",
     "text": [
      "loss:  tensor(16343.4828, device='cuda:0', grad_fn=<AddBackward0>)\n"
     ]
    },
    {
     "name": "stderr",
     "output_type": "stream",
     "text": [
      "  2%|████▋                                                                                                                                                                                                                                     | 2021/100000 [33:56<28:20:21,  1.04s/it]"
     ]
    },
    {
     "name": "stdout",
     "output_type": "stream",
     "text": [
      "loss:  tensor(16113.4553, device='cuda:0', grad_fn=<AddBackward0>)\n"
     ]
    },
    {
     "name": "stderr",
     "output_type": "stream",
     "text": [
      "  2%|████▊                                                                                                                                                                                                                                     | 2031/100000 [34:06<28:28:07,  1.05s/it]"
     ]
    },
    {
     "name": "stdout",
     "output_type": "stream",
     "text": [
      "loss:  tensor(16175.1166, device='cuda:0', grad_fn=<AddBackward0>)\n"
     ]
    },
    {
     "name": "stderr",
     "output_type": "stream",
     "text": [
      "  2%|████▊                                                                                                                                                                                                                                     | 2041/100000 [34:16<27:49:11,  1.02s/it]"
     ]
    },
    {
     "name": "stdout",
     "output_type": "stream",
     "text": [
      "loss:  tensor(16026.5975, device='cuda:0', grad_fn=<AddBackward0>)\n"
     ]
    },
    {
     "name": "stderr",
     "output_type": "stream",
     "text": [
      "  2%|████▊                                                                                                                                                                                                                                     | 2051/100000 [34:26<28:02:07,  1.03s/it]"
     ]
    },
    {
     "name": "stdout",
     "output_type": "stream",
     "text": [
      "loss:  tensor(15911.7622, device='cuda:0', grad_fn=<AddBackward0>)\n"
     ]
    },
    {
     "name": "stderr",
     "output_type": "stream",
     "text": [
      "  2%|████▊                                                                                                                                                                                                                                     | 2061/100000 [34:36<27:59:01,  1.03s/it]"
     ]
    },
    {
     "name": "stdout",
     "output_type": "stream",
     "text": [
      "loss:  tensor(16015.8802, device='cuda:0', grad_fn=<AddBackward0>)\n"
     ]
    },
    {
     "name": "stderr",
     "output_type": "stream",
     "text": [
      "  2%|████▊                                                                                                                                                                                                                                     | 2071/100000 [34:46<28:08:41,  1.03s/it]"
     ]
    },
    {
     "name": "stdout",
     "output_type": "stream",
     "text": [
      "loss:  tensor(15841.9540, device='cuda:0', grad_fn=<AddBackward0>)\n"
     ]
    },
    {
     "name": "stderr",
     "output_type": "stream",
     "text": [
      "  2%|████▊                                                                                                                                                                                                                                     | 2081/100000 [34:56<27:54:43,  1.03s/it]"
     ]
    },
    {
     "name": "stdout",
     "output_type": "stream",
     "text": [
      "loss:  tensor(15938.8848, device='cuda:0', grad_fn=<AddBackward0>)\n"
     ]
    },
    {
     "name": "stderr",
     "output_type": "stream",
     "text": [
      "  2%|████▉                                                                                                                                                                                                                                     | 2091/100000 [35:06<27:48:38,  1.02s/it]"
     ]
    },
    {
     "name": "stdout",
     "output_type": "stream",
     "text": [
      "loss:  tensor(15858.4415, device='cuda:0', grad_fn=<AddBackward0>)\n"
     ]
    },
    {
     "name": "stderr",
     "output_type": "stream",
     "text": [
      "  2%|████▉                                                                                                                                                                                                                                     | 2101/100000 [35:16<28:03:29,  1.03s/it]"
     ]
    },
    {
     "name": "stdout",
     "output_type": "stream",
     "text": [
      "loss:  tensor(15635.6072, device='cuda:0', grad_fn=<AddBackward0>)\n"
     ]
    },
    {
     "name": "stderr",
     "output_type": "stream",
     "text": [
      "  2%|████▉                                                                                                                                                                                                                                     | 2111/100000 [35:27<28:16:10,  1.04s/it]"
     ]
    },
    {
     "name": "stdout",
     "output_type": "stream",
     "text": [
      "loss:  tensor(15616.3814, device='cuda:0', grad_fn=<AddBackward0>)\n"
     ]
    },
    {
     "name": "stderr",
     "output_type": "stream",
     "text": [
      "  2%|████▉                                                                                                                                                                                                                                     | 2121/100000 [35:37<27:36:59,  1.02s/it]"
     ]
    },
    {
     "name": "stdout",
     "output_type": "stream",
     "text": [
      "loss:  tensor(15684.0051, device='cuda:0', grad_fn=<AddBackward0>)\n"
     ]
    },
    {
     "name": "stderr",
     "output_type": "stream",
     "text": [
      "  2%|████▉                                                                                                                                                                                                                                     | 2131/100000 [35:47<28:00:48,  1.03s/it]"
     ]
    },
    {
     "name": "stdout",
     "output_type": "stream",
     "text": [
      "loss:  tensor(15498.4755, device='cuda:0', grad_fn=<AddBackward0>)\n"
     ]
    },
    {
     "name": "stderr",
     "output_type": "stream",
     "text": [
      "  2%|█████                                                                                                                                                                                                                                     | 2141/100000 [35:57<27:56:47,  1.03s/it]"
     ]
    },
    {
     "name": "stdout",
     "output_type": "stream",
     "text": [
      "loss:  tensor(15429.4305, device='cuda:0', grad_fn=<AddBackward0>)\n"
     ]
    },
    {
     "name": "stderr",
     "output_type": "stream",
     "text": [
      "  2%|█████                                                                                                                                                                                                                                     | 2151/100000 [36:07<28:46:32,  1.06s/it]"
     ]
    },
    {
     "name": "stdout",
     "output_type": "stream",
     "text": [
      "loss:  tensor(15596.2176, device='cuda:0', grad_fn=<AddBackward0>)\n"
     ]
    },
    {
     "name": "stderr",
     "output_type": "stream",
     "text": [
      "  2%|█████                                                                                                                                                                                                                                     | 2161/100000 [36:17<27:46:54,  1.02s/it]"
     ]
    },
    {
     "name": "stdout",
     "output_type": "stream",
     "text": [
      "loss:  tensor(15318.8395, device='cuda:0', grad_fn=<AddBackward0>)\n"
     ]
    },
    {
     "name": "stderr",
     "output_type": "stream",
     "text": [
      "  2%|█████                                                                                                                                                                                                                                     | 2171/100000 [36:27<27:45:34,  1.02s/it]"
     ]
    },
    {
     "name": "stdout",
     "output_type": "stream",
     "text": [
      "loss:  tensor(15635.0480, device='cuda:0', grad_fn=<AddBackward0>)\n"
     ]
    },
    {
     "name": "stderr",
     "output_type": "stream",
     "text": [
      "  2%|█████                                                                                                                                                                                                                                     | 2181/100000 [36:37<27:52:31,  1.03s/it]"
     ]
    },
    {
     "name": "stdout",
     "output_type": "stream",
     "text": [
      "loss:  tensor(15100.6050, device='cuda:0', grad_fn=<AddBackward0>)\n"
     ]
    },
    {
     "name": "stderr",
     "output_type": "stream",
     "text": [
      "  2%|█████▏                                                                                                                                                                                                                                    | 2191/100000 [36:47<28:08:53,  1.04s/it]"
     ]
    },
    {
     "name": "stdout",
     "output_type": "stream",
     "text": [
      "loss:  tensor(15118.2620, device='cuda:0', grad_fn=<AddBackward0>)\n"
     ]
    },
    {
     "name": "stderr",
     "output_type": "stream",
     "text": [
      "  2%|█████▏                                                                                                                                                                                                                                    | 2201/100000 [36:58<28:10:51,  1.04s/it]"
     ]
    },
    {
     "name": "stdout",
     "output_type": "stream",
     "text": [
      "loss:  tensor(15132.7245, device='cuda:0', grad_fn=<AddBackward0>)\n"
     ]
    },
    {
     "name": "stderr",
     "output_type": "stream",
     "text": [
      "  2%|█████▏                                                                                                                                                                                                                                    | 2211/100000 [37:08<28:03:08,  1.03s/it]"
     ]
    },
    {
     "name": "stdout",
     "output_type": "stream",
     "text": [
      "loss:  tensor(14770.0451, device='cuda:0', grad_fn=<AddBackward0>)\n"
     ]
    },
    {
     "name": "stderr",
     "output_type": "stream",
     "text": [
      "  2%|█████▏                                                                                                                                                                                                                                    | 2221/100000 [37:18<27:57:51,  1.03s/it]"
     ]
    },
    {
     "name": "stdout",
     "output_type": "stream",
     "text": [
      "loss:  tensor(14787.1032, device='cuda:0', grad_fn=<AddBackward0>)\n"
     ]
    },
    {
     "name": "stderr",
     "output_type": "stream",
     "text": [
      "  2%|█████▏                                                                                                                                                                                                                                    | 2231/100000 [37:28<27:56:58,  1.03s/it]"
     ]
    },
    {
     "name": "stdout",
     "output_type": "stream",
     "text": [
      "loss:  tensor(14795.4515, device='cuda:0', grad_fn=<AddBackward0>)\n"
     ]
    },
    {
     "name": "stderr",
     "output_type": "stream",
     "text": [
      "  2%|█████▏                                                                                                                                                                                                                                    | 2241/100000 [37:38<27:40:35,  1.02s/it]"
     ]
    },
    {
     "name": "stdout",
     "output_type": "stream",
     "text": [
      "loss:  tensor(14493.3148, device='cuda:0', grad_fn=<AddBackward0>)\n"
     ]
    },
    {
     "name": "stderr",
     "output_type": "stream",
     "text": [
      "  2%|█████▎                                                                                                                                                                                                                                    | 2251/100000 [37:48<27:52:26,  1.03s/it]"
     ]
    },
    {
     "name": "stdout",
     "output_type": "stream",
     "text": [
      "loss:  tensor(14492.8115, device='cuda:0', grad_fn=<AddBackward0>)\n"
     ]
    },
    {
     "name": "stderr",
     "output_type": "stream",
     "text": [
      "  2%|█████▎                                                                                                                                                                                                                                    | 2261/100000 [37:58<27:57:21,  1.03s/it]"
     ]
    },
    {
     "name": "stdout",
     "output_type": "stream",
     "text": [
      "loss:  tensor(14591.4941, device='cuda:0', grad_fn=<AddBackward0>)\n"
     ]
    },
    {
     "name": "stderr",
     "output_type": "stream",
     "text": [
      "  2%|█████▎                                                                                                                                                                                                                                    | 2271/100000 [38:09<28:16:19,  1.04s/it]"
     ]
    },
    {
     "name": "stdout",
     "output_type": "stream",
     "text": [
      "loss:  tensor(14309.6721, device='cuda:0', grad_fn=<AddBackward0>)\n"
     ]
    },
    {
     "name": "stderr",
     "output_type": "stream",
     "text": [
      "  2%|█████▎                                                                                                                                                                                                                                    | 2281/100000 [38:19<27:51:12,  1.03s/it]"
     ]
    },
    {
     "name": "stdout",
     "output_type": "stream",
     "text": [
      "loss:  tensor(14190.0099, device='cuda:0', grad_fn=<AddBackward0>)\n"
     ]
    },
    {
     "name": "stderr",
     "output_type": "stream",
     "text": [
      "  2%|█████▎                                                                                                                                                                                                                                    | 2291/100000 [38:29<27:53:23,  1.03s/it]"
     ]
    },
    {
     "name": "stdout",
     "output_type": "stream",
     "text": [
      "loss:  tensor(14165.4302, device='cuda:0', grad_fn=<AddBackward0>)\n"
     ]
    },
    {
     "name": "stderr",
     "output_type": "stream",
     "text": [
      "  2%|█████▍                                                                                                                                                                                                                                    | 2301/100000 [38:39<28:21:51,  1.05s/it]"
     ]
    },
    {
     "name": "stdout",
     "output_type": "stream",
     "text": [
      "loss:  tensor(14203.1515, device='cuda:0', grad_fn=<AddBackward0>)\n"
     ]
    },
    {
     "name": "stderr",
     "output_type": "stream",
     "text": [
      "  2%|█████▍                                                                                                                                                                                                                                    | 2311/100000 [38:49<28:02:07,  1.03s/it]"
     ]
    },
    {
     "name": "stdout",
     "output_type": "stream",
     "text": [
      "loss:  tensor(14100.9767, device='cuda:0', grad_fn=<AddBackward0>)\n"
     ]
    },
    {
     "name": "stderr",
     "output_type": "stream",
     "text": [
      "  2%|█████▍                                                                                                                                                                                                                                    | 2321/100000 [38:59<27:42:06,  1.02s/it]"
     ]
    },
    {
     "name": "stdout",
     "output_type": "stream",
     "text": [
      "loss:  tensor(14289.7359, device='cuda:0', grad_fn=<AddBackward0>)\n"
     ]
    },
    {
     "name": "stderr",
     "output_type": "stream",
     "text": [
      "  2%|█████▍                                                                                                                                                                                                                                    | 2331/100000 [39:09<27:59:02,  1.03s/it]"
     ]
    },
    {
     "name": "stdout",
     "output_type": "stream",
     "text": [
      "loss:  tensor(14075.2373, device='cuda:0', grad_fn=<AddBackward0>)\n"
     ]
    },
    {
     "name": "stderr",
     "output_type": "stream",
     "text": [
      "  2%|█████▍                                                                                                                                                                                                                                    | 2341/100000 [39:19<27:46:51,  1.02s/it]"
     ]
    },
    {
     "name": "stdout",
     "output_type": "stream",
     "text": [
      "loss:  tensor(13954.3257, device='cuda:0', grad_fn=<AddBackward0>)\n"
     ]
    },
    {
     "name": "stderr",
     "output_type": "stream",
     "text": [
      "  2%|█████▌                                                                                                                                                                                                                                    | 2351/100000 [39:29<27:37:19,  1.02s/it]"
     ]
    },
    {
     "name": "stdout",
     "output_type": "stream",
     "text": [
      "loss:  tensor(13689.7339, device='cuda:0', grad_fn=<AddBackward0>)\n"
     ]
    },
    {
     "name": "stderr",
     "output_type": "stream",
     "text": [
      "  2%|█████▌                                                                                                                                                                                                                                    | 2361/100000 [39:40<28:01:56,  1.03s/it]"
     ]
    },
    {
     "name": "stdout",
     "output_type": "stream",
     "text": [
      "loss:  tensor(13661.2635, device='cuda:0', grad_fn=<AddBackward0>)\n"
     ]
    },
    {
     "name": "stderr",
     "output_type": "stream",
     "text": [
      "  2%|█████▌                                                                                                                                                                                                                                    | 2371/100000 [39:50<28:03:23,  1.03s/it]"
     ]
    },
    {
     "name": "stdout",
     "output_type": "stream",
     "text": [
      "loss:  tensor(13387.0319, device='cuda:0', grad_fn=<AddBackward0>)\n"
     ]
    },
    {
     "name": "stderr",
     "output_type": "stream",
     "text": [
      "  2%|█████▌                                                                                                                                                                                                                                    | 2381/100000 [40:00<27:38:30,  1.02s/it]"
     ]
    },
    {
     "name": "stdout",
     "output_type": "stream",
     "text": [
      "loss:  tensor(12987.7005, device='cuda:0', grad_fn=<AddBackward0>)\n"
     ]
    },
    {
     "name": "stderr",
     "output_type": "stream",
     "text": [
      "  2%|█████▌                                                                                                                                                                                                                                    | 2391/100000 [40:10<28:32:08,  1.05s/it]"
     ]
    },
    {
     "name": "stdout",
     "output_type": "stream",
     "text": [
      "loss:  tensor(13083.9854, device='cuda:0', grad_fn=<AddBackward0>)\n"
     ]
    },
    {
     "name": "stderr",
     "output_type": "stream",
     "text": [
      "  2%|█████▌                                                                                                                                                                                                                                    | 2401/100000 [40:20<27:59:59,  1.03s/it]"
     ]
    },
    {
     "name": "stdout",
     "output_type": "stream",
     "text": [
      "loss:  tensor(12896.6575, device='cuda:0', grad_fn=<AddBackward0>)\n"
     ]
    },
    {
     "name": "stderr",
     "output_type": "stream",
     "text": [
      "  2%|█████▋                                                                                                                                                                                                                                    | 2411/100000 [40:30<27:45:07,  1.02s/it]"
     ]
    },
    {
     "name": "stdout",
     "output_type": "stream",
     "text": [
      "loss:  tensor(12760.1516, device='cuda:0', grad_fn=<AddBackward0>)\n"
     ]
    },
    {
     "name": "stderr",
     "output_type": "stream",
     "text": [
      "  2%|█████▋                                                                                                                                                                                                                                    | 2421/100000 [40:40<27:46:56,  1.02s/it]"
     ]
    },
    {
     "name": "stdout",
     "output_type": "stream",
     "text": [
      "loss:  tensor(12764.8005, device='cuda:0', grad_fn=<AddBackward0>)\n"
     ]
    },
    {
     "name": "stderr",
     "output_type": "stream",
     "text": [
      "  2%|█████▋                                                                                                                                                                                                                                    | 2431/100000 [40:51<27:40:46,  1.02s/it]"
     ]
    },
    {
     "name": "stdout",
     "output_type": "stream",
     "text": [
      "loss:  tensor(12624.9869, device='cuda:0', grad_fn=<AddBackward0>)\n"
     ]
    },
    {
     "name": "stderr",
     "output_type": "stream",
     "text": [
      "  2%|█████▋                                                                                                                                                                                                                                    | 2441/100000 [41:01<27:34:00,  1.02s/it]"
     ]
    },
    {
     "name": "stdout",
     "output_type": "stream",
     "text": [
      "loss:  tensor(12648.0494, device='cuda:0', grad_fn=<AddBackward0>)\n"
     ]
    },
    {
     "name": "stderr",
     "output_type": "stream",
     "text": [
      "  2%|█████▋                                                                                                                                                                                                                                    | 2451/100000 [41:11<28:00:59,  1.03s/it]"
     ]
    },
    {
     "name": "stdout",
     "output_type": "stream",
     "text": [
      "loss:  tensor(12541.1774, device='cuda:0', grad_fn=<AddBackward0>)\n"
     ]
    },
    {
     "name": "stderr",
     "output_type": "stream",
     "text": [
      "  2%|█████▊                                                                                                                                                                                                                                    | 2461/100000 [41:21<27:37:54,  1.02s/it]"
     ]
    },
    {
     "name": "stdout",
     "output_type": "stream",
     "text": [
      "loss:  tensor(12532.6115, device='cuda:0', grad_fn=<AddBackward0>)\n"
     ]
    },
    {
     "name": "stderr",
     "output_type": "stream",
     "text": [
      "  2%|█████▊                                                                                                                                                                                                                                    | 2471/100000 [41:31<27:57:21,  1.03s/it]"
     ]
    },
    {
     "name": "stdout",
     "output_type": "stream",
     "text": [
      "loss:  tensor(12427.0664, device='cuda:0', grad_fn=<AddBackward0>)\n"
     ]
    },
    {
     "name": "stderr",
     "output_type": "stream",
     "text": [
      "  2%|█████▊                                                                                                                                                                                                                                    | 2481/100000 [41:41<27:46:26,  1.03s/it]"
     ]
    },
    {
     "name": "stdout",
     "output_type": "stream",
     "text": [
      "loss:  tensor(12664.0243, device='cuda:0', grad_fn=<AddBackward0>)\n"
     ]
    },
    {
     "name": "stderr",
     "output_type": "stream",
     "text": [
      "  2%|█████▊                                                                                                                                                                                                                                    | 2491/100000 [41:52<29:18:29,  1.08s/it]"
     ]
    },
    {
     "name": "stdout",
     "output_type": "stream",
     "text": [
      "loss:  tensor(12505.9253, device='cuda:0', grad_fn=<AddBackward0>)\n"
     ]
    },
    {
     "name": "stderr",
     "output_type": "stream",
     "text": [
      "  3%|█████▊                                                                                                                                                                                                                                    | 2501/100000 [42:03<28:33:19,  1.05s/it]"
     ]
    },
    {
     "name": "stdout",
     "output_type": "stream",
     "text": [
      "loss:  tensor(12542.8155, device='cuda:0', grad_fn=<AddBackward0>)\n"
     ]
    },
    {
     "name": "stderr",
     "output_type": "stream",
     "text": [
      "  3%|█████▉                                                                                                                                                                                                                                    | 2511/100000 [42:13<28:52:16,  1.07s/it]"
     ]
    },
    {
     "name": "stdout",
     "output_type": "stream",
     "text": [
      "loss:  tensor(12376.7152, device='cuda:0', grad_fn=<AddBackward0>)\n"
     ]
    },
    {
     "name": "stderr",
     "output_type": "stream",
     "text": [
      "  3%|█████▉                                                                                                                                                                                                                                    | 2521/100000 [42:24<28:48:00,  1.06s/it]"
     ]
    },
    {
     "name": "stdout",
     "output_type": "stream",
     "text": [
      "loss:  tensor(12400.4053, device='cuda:0', grad_fn=<AddBackward0>)\n"
     ]
    },
    {
     "name": "stderr",
     "output_type": "stream",
     "text": [
      "  3%|█████▉                                                                                                                                                                                                                                    | 2531/100000 [42:34<28:25:58,  1.05s/it]"
     ]
    },
    {
     "name": "stdout",
     "output_type": "stream",
     "text": [
      "loss:  tensor(12416.2343, device='cuda:0', grad_fn=<AddBackward0>)\n"
     ]
    },
    {
     "name": "stderr",
     "output_type": "stream",
     "text": [
      "  3%|█████▉                                                                                                                                                                                                                                    | 2541/100000 [42:45<30:10:34,  1.11s/it]"
     ]
    },
    {
     "name": "stdout",
     "output_type": "stream",
     "text": [
      "loss:  tensor(12347.5207, device='cuda:0', grad_fn=<AddBackward0>)\n"
     ]
    },
    {
     "name": "stderr",
     "output_type": "stream",
     "text": [
      "  3%|█████▉                                                                                                                                                                                                                                    | 2551/100000 [42:55<29:38:35,  1.10s/it]"
     ]
    },
    {
     "name": "stdout",
     "output_type": "stream",
     "text": [
      "loss:  tensor(12478.2411, device='cuda:0', grad_fn=<AddBackward0>)\n"
     ]
    },
    {
     "name": "stderr",
     "output_type": "stream",
     "text": [
      "  3%|█████▉                                                                                                                                                                                                                                    | 2561/100000 [43:06<29:08:05,  1.08s/it]"
     ]
    },
    {
     "name": "stdout",
     "output_type": "stream",
     "text": [
      "loss:  tensor(12369.7548, device='cuda:0', grad_fn=<AddBackward0>)\n"
     ]
    },
    {
     "name": "stderr",
     "output_type": "stream",
     "text": [
      "  3%|██████                                                                                                                                                                                                                                    | 2571/100000 [43:16<29:30:01,  1.09s/it]"
     ]
    },
    {
     "name": "stdout",
     "output_type": "stream",
     "text": [
      "loss:  tensor(12263.7240, device='cuda:0', grad_fn=<AddBackward0>)\n"
     ]
    },
    {
     "name": "stderr",
     "output_type": "stream",
     "text": [
      "  3%|██████                                                                                                                                                                                                                                    | 2581/100000 [43:28<31:04:05,  1.15s/it]"
     ]
    },
    {
     "name": "stdout",
     "output_type": "stream",
     "text": [
      "loss:  tensor(12446.0514, device='cuda:0', grad_fn=<AddBackward0>)\n"
     ]
    },
    {
     "name": "stderr",
     "output_type": "stream",
     "text": [
      "  3%|██████                                                                                                                                                                                                                                    | 2591/100000 [43:38<28:14:51,  1.04s/it]"
     ]
    },
    {
     "name": "stdout",
     "output_type": "stream",
     "text": [
      "loss:  tensor(12232.4659, device='cuda:0', grad_fn=<AddBackward0>)\n"
     ]
    },
    {
     "name": "stderr",
     "output_type": "stream",
     "text": [
      "  3%|██████                                                                                                                                                                                                                                    | 2601/100000 [43:49<29:06:25,  1.08s/it]"
     ]
    },
    {
     "name": "stdout",
     "output_type": "stream",
     "text": [
      "loss:  tensor(12242.6601, device='cuda:0', grad_fn=<AddBackward0>)\n"
     ]
    },
    {
     "name": "stderr",
     "output_type": "stream",
     "text": [
      "  3%|██████                                                                                                                                                                                                                                    | 2611/100000 [43:59<28:15:36,  1.04s/it]"
     ]
    },
    {
     "name": "stdout",
     "output_type": "stream",
     "text": [
      "loss:  tensor(12213.4324, device='cuda:0', grad_fn=<AddBackward0>)\n"
     ]
    },
    {
     "name": "stderr",
     "output_type": "stream",
     "text": [
      "  3%|██████▏                                                                                                                                                                                                                                   | 2621/100000 [44:09<28:22:15,  1.05s/it]"
     ]
    },
    {
     "name": "stdout",
     "output_type": "stream",
     "text": [
      "loss:  tensor(12206.3525, device='cuda:0', grad_fn=<AddBackward0>)\n"
     ]
    },
    {
     "name": "stderr",
     "output_type": "stream",
     "text": [
      "  3%|██████▏                                                                                                                                                                                                                                   | 2631/100000 [44:20<28:53:11,  1.07s/it]"
     ]
    },
    {
     "name": "stdout",
     "output_type": "stream",
     "text": [
      "loss:  tensor(12249.5750, device='cuda:0', grad_fn=<AddBackward0>)\n"
     ]
    },
    {
     "name": "stderr",
     "output_type": "stream",
     "text": [
      "  3%|██████▏                                                                                                                                                                                                                                   | 2641/100000 [44:30<27:51:23,  1.03s/it]"
     ]
    },
    {
     "name": "stdout",
     "output_type": "stream",
     "text": [
      "loss:  tensor(12222.6160, device='cuda:0', grad_fn=<AddBackward0>)\n"
     ]
    },
    {
     "name": "stderr",
     "output_type": "stream",
     "text": [
      "  3%|██████▏                                                                                                                                                                                                                                   | 2651/100000 [44:40<28:10:54,  1.04s/it]"
     ]
    },
    {
     "name": "stdout",
     "output_type": "stream",
     "text": [
      "loss:  tensor(12219.3859, device='cuda:0', grad_fn=<AddBackward0>)\n"
     ]
    },
    {
     "name": "stderr",
     "output_type": "stream",
     "text": [
      "  3%|██████▏                                                                                                                                                                                                                                   | 2661/100000 [44:51<28:05:52,  1.04s/it]"
     ]
    },
    {
     "name": "stdout",
     "output_type": "stream",
     "text": [
      "loss:  tensor(12176.6290, device='cuda:0', grad_fn=<AddBackward0>)\n"
     ]
    },
    {
     "name": "stderr",
     "output_type": "stream",
     "text": [
      "  3%|██████▎                                                                                                                                                                                                                                   | 2671/100000 [45:01<28:28:09,  1.05s/it]"
     ]
    },
    {
     "name": "stdout",
     "output_type": "stream",
     "text": [
      "loss:  tensor(12137.0704, device='cuda:0', grad_fn=<AddBackward0>)\n"
     ]
    },
    {
     "name": "stderr",
     "output_type": "stream",
     "text": [
      "  3%|██████▎                                                                                                                                                                                                                                   | 2681/100000 [45:11<28:24:26,  1.05s/it]"
     ]
    },
    {
     "name": "stdout",
     "output_type": "stream",
     "text": [
      "loss:  tensor(12062.2376, device='cuda:0', grad_fn=<AddBackward0>)\n"
     ]
    },
    {
     "name": "stderr",
     "output_type": "stream",
     "text": [
      "  3%|██████▎                                                                                                                                                                                                                                   | 2691/100000 [45:22<28:07:56,  1.04s/it]"
     ]
    },
    {
     "name": "stdout",
     "output_type": "stream",
     "text": [
      "loss:  tensor(12182.3106, device='cuda:0', grad_fn=<AddBackward0>)\n"
     ]
    },
    {
     "name": "stderr",
     "output_type": "stream",
     "text": [
      "  3%|██████▎                                                                                                                                                                                                                                   | 2701/100000 [45:32<28:58:59,  1.07s/it]"
     ]
    },
    {
     "name": "stdout",
     "output_type": "stream",
     "text": [
      "loss:  tensor(12093.2766, device='cuda:0', grad_fn=<AddBackward0>)\n"
     ]
    },
    {
     "name": "stderr",
     "output_type": "stream",
     "text": [
      "  3%|██████▎                                                                                                                                                                                                                                   | 2711/100000 [45:43<28:06:28,  1.04s/it]"
     ]
    },
    {
     "name": "stdout",
     "output_type": "stream",
     "text": [
      "loss:  tensor(12219.4021, device='cuda:0', grad_fn=<AddBackward0>)\n"
     ]
    },
    {
     "name": "stderr",
     "output_type": "stream",
     "text": [
      "  3%|██████▎                                                                                                                                                                                                                                   | 2721/100000 [45:53<28:17:40,  1.05s/it]"
     ]
    },
    {
     "name": "stdout",
     "output_type": "stream",
     "text": [
      "loss:  tensor(12210.0153, device='cuda:0', grad_fn=<AddBackward0>)\n"
     ]
    },
    {
     "name": "stderr",
     "output_type": "stream",
     "text": [
      "  3%|██████▍                                                                                                                                                                                                                                   | 2731/100000 [46:03<28:23:34,  1.05s/it]"
     ]
    },
    {
     "name": "stdout",
     "output_type": "stream",
     "text": [
      "loss:  tensor(12148.4295, device='cuda:0', grad_fn=<AddBackward0>)\n"
     ]
    },
    {
     "name": "stderr",
     "output_type": "stream",
     "text": [
      "  3%|██████▍                                                                                                                                                                                                                                   | 2741/100000 [46:14<28:41:37,  1.06s/it]"
     ]
    },
    {
     "name": "stdout",
     "output_type": "stream",
     "text": [
      "loss:  tensor(12145.0181, device='cuda:0', grad_fn=<AddBackward0>)\n"
     ]
    },
    {
     "name": "stderr",
     "output_type": "stream",
     "text": [
      "  3%|██████▍                                                                                                                                                                                                                                   | 2751/100000 [46:24<29:19:00,  1.09s/it]"
     ]
    },
    {
     "name": "stdout",
     "output_type": "stream",
     "text": [
      "loss:  tensor(12138.9093, device='cuda:0', grad_fn=<AddBackward0>)\n"
     ]
    },
    {
     "name": "stderr",
     "output_type": "stream",
     "text": [
      "  3%|██████▍                                                                                                                                                                                                                                   | 2761/100000 [46:35<30:30:21,  1.13s/it]"
     ]
    },
    {
     "name": "stdout",
     "output_type": "stream",
     "text": [
      "loss:  tensor(12083.6743, device='cuda:0', grad_fn=<AddBackward0>)\n"
     ]
    },
    {
     "name": "stderr",
     "output_type": "stream",
     "text": [
      "  3%|██████▍                                                                                                                                                                                                                                   | 2763/100000 [46:39<40:10:09,  1.49s/it]"
     ]
    }
   ],
   "source": [
    "loss_all = []\n",
    "acc_all = []\n",
    "N = vectors.shape[0]\n",
    "vectors_scale = torch.tensor([0.01])\n",
    "# vectors_scale = torch.eye(n_vector) * 0.3/2\n",
    "\n",
    "# model_trace = torch.jit.trace(model, (vectors[:batch_size]).to(device=device))\n",
    "model_trace = model\n",
    "for i in trange(0, 100000, position=0, leave=False):\n",
    "    perm = torch.randperm(N)\n",
    "        \n",
    "    acc_in_epoch = []\n",
    "    loss_in_epoch = 0\n",
    "    for j in range(N//batch_size):#, position=0, leave=False):\n",
    "        \n",
    "        optimizer.zero_grad()\n",
    "        \n",
    "        indices = perm[j*batch_size:(j+1)*batch_size]\n",
    "        batch_vectors = vectors[indices].to(device=device)\n",
    "        batch_labels = labels[indices].to(device=device)\n",
    "        \n",
    "        recon, activation, PP, batch_vectors_affine, L_loss = model_trace(batch_vectors)\n",
    "        \n",
    "        \n",
    "        # recon_sampled = recon + vectors_scale * torch.randn(recon.shape).to(device=device)\n",
    "        \n",
    "        recon_dist = dist.Normal(recon.cpu(), vectors_scale.expand(batch_size, n_vector)).to_event(1)\n",
    "        # # recon_sampled = (recon_dist.sample().to(device=device) - recon).detach() + recon\n",
    "        # # recon_sampled = recon_dist.sample()\n",
    "        recon_p = recon_dist.log_prob(batch_vectors.cpu()).mean().to(device=device)\n",
    "        # recon_p = torch.exp(recon_p)\n",
    "        \n",
    "        \n",
    "        # PP_dist = dist.Bernoulli(PP.detach().cpu()).to_event(1)\n",
    "        # activation_p = PP_dist.log_prob(activation.cpu()).mean().to(device=device)\n",
    "        # activation_p = (activation * PP.detach() + (1-activation)*(1-PP.detach())).mean().to(device=device)\n",
    "        activation_p = (activation * PP + (1-activation)*(1-PP)).mean().to(device=device)\n",
    "        \n",
    "        # print(P.shape, batch_labels.shape)\n",
    "        \n",
    "        # acc_in_epoch.append((P.argmax(-1) == batch_labels.argmax(-1)).sum() / batch_size)\n",
    "        \n",
    "        # loss_label = criterion_label(P.reshape(-1), batch_labels.reshape(-1))\n",
    "        # loss_recon = criterion_recon(recon, batch_vectors_affine)\n",
    "        \n",
    "        # loss = loss_label - recon_p\n",
    "        # loss = loss_label + loss_recon\n",
    "        \n",
    "        # loss = -recon_p - activation_p + 100*L_loss\n",
    "        loss = -recon_p - activation_p \n",
    "        loss_in_epoch += loss\n",
    "        \n",
    "        loss.backward()\n",
    "        optimizer.step()\n",
    "            \n",
    "    \n",
    "    # acc_in_epoch = sum(acc_in_epoch) / len(acc_in_epoch)\n",
    "    loss_all.append(loss_in_epoch)\n",
    "    # acc_all.append(acc_in_epoch)\n",
    "    if i % 10 == 0:\n",
    "        result_root = \"result-ueca-2.3.1\"\n",
    "        os.makedirs(f\"{result_root}\", exist_ok=True)\n",
    "        print(\"loss: \", loss_in_epoch)\n",
    "        heatmap = sns.heatmap((torch.sigmoid(model.ul.L_theta)).cpu().detach())\n",
    "        fig = heatmap.get_figure()\n",
    "        fig.savefig(f\"{result_root}/{i}.png\")\n",
    "        fig.clf()\n",
    "        # print(\"acc: \", acc_in_epoch)\n",
    "        \n",
    "        # break\n",
    "        \n",
    "    "
   ]
  },
  {
   "cell_type": "code",
   "execution_count": 79,
   "id": "3cb6505f",
   "metadata": {},
   "outputs": [
    {
     "data": {
      "text/plain": [
       "<AxesSubplot:>"
      ]
     },
     "execution_count": 79,
     "metadata": {},
     "output_type": "execute_result"
    },
    {
     "data": {
      "image/png": "[encoded data removed]",
      "text/plain": [
       "<Figure size 432x288 with 2 Axes>"
      ]
     },
     "metadata": {
      "needs_background": "light"
     },
     "output_type": "display_data"
    }
   ],
   "source": [
    "sns.heatmap((torch.sigmoid(model.ul.L_theta)).cpu().detach())"
   ]
  },
  {
   "cell_type": "code",
   "execution_count": 80,
   "id": "07923b4b",
   "metadata": {},
   "outputs": [
    {
     "data": {
      "text/plain": [
       "<AxesSubplot:>"
      ]
     },
     "execution_count": 80,
     "metadata": {},
     "output_type": "execute_result"
    },
    {
     "data": {
      "image/png": "[encoded data removed]",
      "text/plain": [
       "<Figure size 432x288 with 2 Axes>"
      ]
     },
     "metadata": {
      "needs_background": "light"
     },
     "output_type": "display_data"
    }
   ],
   "source": [
    "sns.heatmap((torch.sigmoid(model.ul.L_theta) > 0.5).cpu().detach())"
   ]
  },
  {
   "cell_type": "code",
   "execution_count": null,
   "id": "2635f96b",
   "metadata": {},
   "outputs": [],
   "source": []
  },
  {
   "cell_type": "code",
   "execution_count": null,
   "id": "e5a06392",
   "metadata": {},
   "outputs": [],
   "source": []
  },
  {
   "cell_type": "code",
   "execution_count": null,
   "id": "dd378de8",
   "metadata": {},
   "outputs": [],
   "source": []
  },
  {
   "cell_type": "code",
   "execution_count": null,
   "id": "cbc3599b",
   "metadata": {},
   "outputs": [],
   "source": [
    "plotted = set()\n",
    "fig, axes = plt.subplots(2, 10, figsize=(30, 6))\n",
    "for j in range(6000):\n",
    "    idx = indices[j]\n",
    "    lab = labels_[idx]\n",
    "\n",
    "    if lab not in plotted:\n",
    "        plotted.add(lab)\n",
    "\n",
    "        axes[0, lab].imshow(vectors[idx].detach().cpu().view(28,28))\n",
    "\n",
    "        axes[1, lab].imshow(batch_vectors_affine[j].detach().cpu().view(28,28))\n",
    "\n",
    "    if len(plotted) == 10:\n",
    "        break\n",
    "os.makedirs(\"result-eca-2023-v2/\", exist_ok=True)\n",
    "plt.savefig(\"result-eca-2023-v2/all_digits.png\")"
   ]
  },
  {
   "cell_type": "code",
   "execution_count": null,
   "id": "dcd43496",
   "metadata": {
    "scrolled": false
   },
   "outputs": [],
   "source": [
    "fig, axes = plt.subplots(20, 10, figsize=(30, 60))\n",
    "row_idx = np.zeros((10,), dtype=int)\n",
    "for j in range(6000):\n",
    "    idx = indices[j]\n",
    "    lab = labels_[idx]\n",
    "\n",
    "    if row_idx[lab] == 10:\n",
    "        continue\n",
    "        \n",
    "    \n",
    "    # print(lab, row_idx[lab], idx)\n",
    "\n",
    "    axes[lab*2, row_idx[lab]].imshow(vectors[idx].detach().cpu().view(28,28))\n",
    "\n",
    "    axes[lab*2+1, row_idx[lab]].imshow(batch_vectors_affine[j].detach().cpu().view(28,28))\n",
    "    \n",
    "    row_idx[lab] += 1\n",
    "\n",
    "\n",
    "os.makedirs(\"result-eca-2023-v2/\", exist_ok=True)\n",
    "plt.savefig(\"result-eca-2023-v2/all_digits_10.png\")"
   ]
  },
  {
   "cell_type": "code",
   "execution_count": null,
   "id": "e7d90dbf",
   "metadata": {},
   "outputs": [],
   "source": [
    "[1]"
   ]
  },
  {
   "cell_type": "code",
   "execution_count": null,
   "id": "0f5f0536",
   "metadata": {},
   "outputs": [],
   "source": []
  },
  {
   "cell_type": "code",
   "execution_count": null,
   "id": "b41922e8",
   "metadata": {},
   "outputs": [],
   "source": [
    "idx = 60\n",
    "plt.imshow(vectors[indices][idx].view(28,28))"
   ]
  },
  {
   "cell_type": "code",
   "execution_count": null,
   "id": "19fae89b",
   "metadata": {},
   "outputs": [],
   "source": [
    "plt.imshow(batch_vectors_affine[idx].view(28, 28).detach().cpu())"
   ]
  },
  {
   "cell_type": "code",
   "execution_count": null,
   "id": "e50b306e",
   "metadata": {},
   "outputs": [],
   "source": [
    "import matplotlib.pyplot as plt\n",
    "plt.plot([l.detach().cpu() for l in loss_all])\n",
    "plt.title(\"Loss\")"
   ]
  },
  {
   "cell_type": "code",
   "execution_count": null,
   "id": "94c7d9c0",
   "metadata": {},
   "outputs": [],
   "source": [
    "plt.plot([a.detach().cpu() for a in acc_all])\n",
    "plt.title(\"Acc\")"
   ]
  },
  {
   "cell_type": "code",
   "execution_count": null,
   "id": "f4a664a4",
   "metadata": {},
   "outputs": [],
   "source": []
  },
  {
   "cell_type": "code",
   "execution_count": null,
   "id": "a2c79465",
   "metadata": {},
   "outputs": [],
   "source": []
  },
  {
   "cell_type": "code",
   "execution_count": null,
   "id": "a2b2719e",
   "metadata": {},
   "outputs": [],
   "source": [
    "# model_trace = torch.jit.trace(model, (vectors[:batch_size]).to(device=device))"
   ]
  },
  {
   "cell_type": "code",
   "execution_count": null,
   "id": "d257d6b8",
   "metadata": {},
   "outputs": [],
   "source": [
    "# model_trace((vectors[:batch_size]).to(device=device))"
   ]
  },
  {
   "cell_type": "code",
   "execution_count": null,
   "id": "5c110387",
   "metadata": {},
   "outputs": [],
   "source": []
  },
  {
   "cell_type": "code",
   "execution_count": null,
   "id": "2986d604",
   "metadata": {},
   "outputs": [],
   "source": [
    "sns.heatmap(sigmoid(model.ul.L_theta).detach().cpu())"
   ]
  },
  {
   "cell_type": "code",
   "execution_count": null,
   "id": "6b62ff0e",
   "metadata": {},
   "outputs": [],
   "source": [
    "fig = plt.figure(dpi=500)\n",
    "sns.heatmap(sigmoid(model.ul.L_theta).detach().cpu()>0.5)"
   ]
  },
  {
   "cell_type": "code",
   "execution_count": null,
   "id": "a23431f0",
   "metadata": {},
   "outputs": [],
   "source": [
    "fig = plt.figure(dpi=500)\n",
    "sns.heatmap(sigmoid(model.ul.L_theta.detach().cpu())>0.5)"
   ]
  },
  {
   "cell_type": "code",
   "execution_count": null,
   "id": "390058be",
   "metadata": {},
   "outputs": [],
   "source": [
    "y, x = torch.triu_indices(n_vector, n_vector)\n",
    "U_last = torch.zeros((n_vector, n_vector)).to(device=device)\n",
    "U_last.index_put_(\n",
    "    [\n",
    "        y,\n",
    "        x\n",
    "    ],\n",
    "    model_trace.ul_.A\n",
    ")\n",
    "U_last = U_last - U_last.T + torch.diag(torch.diagonal(U_last))\n",
    "U_last = torch.matrix_exp(U_last)"
   ]
  },
  {
   "cell_type": "code",
   "execution_count": null,
   "id": "5c87cd12",
   "metadata": {},
   "outputs": [],
   "source": [
    "ecmm = (sigmoid(model.ul.L_theta).detach().cpu()>0.5).long()"
   ]
  },
  {
   "cell_type": "code",
   "execution_count": null,
   "id": "5f06f3b2",
   "metadata": {},
   "outputs": [],
   "source": [
    "\n",
    "for j in range(n_class):\n",
    "    os.makedirs(f\"eigen-features-affine-hard-v2/{j}\", exist_ok=True)\n",
    "    for i in range(28*28):\n",
    "        if ecmm[i, j] == 1:\n",
    "            io.imsave(f\"eigen-features-affine-hard-v2/{j}/ef-{i}.png\", U_last[:, i].detach().cpu().view(28, 28))"
   ]
  },
  {
   "cell_type": "code",
   "execution_count": null,
   "id": "e9123f37",
   "metadata": {},
   "outputs": [],
   "source": []
  },
  {
   "cell_type": "code",
   "execution_count": null,
   "id": "51b10eb9",
   "metadata": {},
   "outputs": [],
   "source": [
    "# def load_model(model_root):\n",
    "#     predict_position_path = os.path.join(model_root, \"predict_position.pt\")\n",
    "#     predict_media_path = os.path.join(model_root, \"predict_media.pt\")\n",
    "#     optim_path = os.path.join(model_root, \"optim.pt\")\n",
    "#     model_path = os.path.join(model_root, \"mymodel.pt\")\n",
    "\n",
    "    \n",
    "#     predict_position.load_state_dict(torch.load(predict_position_path))\n",
    "#     predict_media.load_state_dict(torch.load(predict_media_path))\n",
    "    \n",
    "\n",
    "#     optimizer.load(optim_path)\n",
    "\n",
    "#     pyro.get_param_store().load(model_path)\n",
    "    \n",
    "def save_model(model_root):\n",
    "    os.makedirs(model_root, exist_ok=True)\n",
    "    \n",
    "    # predict_position_path = os.path.join(model_root, \"predict_position.pt\")\n",
    "    # predict_media_path = os.path.join(model_root, \"predict_media.pt\")\n",
    "    # optim_path = os.path.join(model_root, \"optim.pt\")\n",
    "    model_path = os.path.join(model_root, \"mymodel.pt\")\n",
    "    \n",
    "    # torch.save(predict_position.state_dict(), predict_position_path)\n",
    "    # torch.save(predict_media.state_dict(), predict_media_path)\n",
    "\n",
    "    # optimizer.save(optim_path)\n",
    "\n",
    "    # pyro.get_param_store().save(model_path)\n",
    "    torch.save(model.ul.state_dict(), model)"
   ]
  },
  {
   "cell_type": "code",
   "execution_count": null,
   "id": "b900554e",
   "metadata": {},
   "outputs": [],
   "source": [
    "save_model(\"eca_sw_mean_sample\")"
   ]
  },
  {
   "cell_type": "code",
   "execution_count": null,
   "id": "fe27aedf",
   "metadata": {},
   "outputs": [],
   "source": [
    "1+1"
   ]
  },
  {
   "cell_type": "code",
   "execution_count": null,
   "id": "95e4ec6f",
   "metadata": {},
   "outputs": [],
   "source": []
  }
 ],
 "metadata": {
  "kernelspec": {
   "display_name": "Python [conda env:eca] *",
   "language": "python",
   "name": "conda-env-eca-py"
  },
  "language_info": {
   "codemirror_mode": {
    "name": "ipython",
    "version": 3
   },
   "file_extension": ".py",
   "mimetype": "text/x-python",
   "name": "python",
   "nbconvert_exporter": "python",
   "pygments_lexer": "ipython3",
   "version": "3.7.11"
  }
 },
 "nbformat": 4,
 "nbformat_minor": 5
}
